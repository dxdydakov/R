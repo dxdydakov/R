{
 "cells": [
  {
   "cell_type": "markdown",
   "id": "45f969e1-9b39-49e1-93a0-f849b02c10ee",
   "metadata": {},
   "source": [
    "# Домашнее задание № 4"
   ]
  },
  {
   "cell_type": "markdown",
   "id": "bef759a2-246c-42d3-b078-32d4c285c276",
   "metadata": {},
   "source": [
    "1. Напишите функцию, чтобы найти максимум трех чисел. "
   ]
  },
  {
   "cell_type": "code",
   "execution_count": 1,
   "id": "38b23922-c760-436d-b5ba-38bc06e21853",
   "metadata": {},
   "outputs": [],
   "source": [
    "find_max <- function(a, b, c) {\n",
    "  max_num <- a\n",
    "  if (b > max_num) {\n",
    "    max_num <- b\n",
    "  }\n",
    "  if (c > max_num) {\n",
    "    max_num <- c\n",
    "  }\n",
    "  return(max_num)\n",
    "}"
   ]
  },
  {
   "cell_type": "code",
   "execution_count": 3,
   "id": "06debe61-7867-4291-a28c-2bd491ec0915",
   "metadata": {},
   "outputs": [
    {
     "data": {
      "text/html": [
       "10"
      ],
      "text/latex": [
       "10"
      ],
      "text/markdown": [
       "10"
      ],
      "text/plain": [
       "[1] 10"
      ]
     },
     "metadata": {},
     "output_type": "display_data"
    }
   ],
   "source": [
    "max_num <- find_max(5, 10, 3)\n",
    "max_num"
   ]
  },
  {
   "cell_type": "markdown",
   "id": "a8ded344-63d6-45c6-915f-79ec463c5799",
   "metadata": {},
   "source": [
    "2. Напишите функцию для суммирования 4 чисел вектора с(8, 2, 5, 0). "
   ]
  },
  {
   "cell_type": "code",
   "execution_count": 4,
   "id": "848929e5-0023-426b-b4af-19fd884162c8",
   "metadata": {},
   "outputs": [],
   "source": [
    "sum_vector <- function(vec) {\n",
    "  result <- 0\n",
    "  for (elem in vec) {\n",
    "    result <- result + elem\n",
    "  }\n",
    "  return(result)\n",
    "}"
   ]
  },
  {
   "cell_type": "code",
   "execution_count": 5,
   "id": "5ac00d43-e8cb-41c4-b2ed-7eee1c645c6a",
   "metadata": {},
   "outputs": [
    {
     "data": {
      "text/html": [
       "15"
      ],
      "text/latex": [
       "15"
      ],
      "text/markdown": [
       "15"
      ],
      "text/plain": [
       "[1] 15"
      ]
     },
     "metadata": {},
     "output_type": "display_data"
    }
   ],
   "source": [
    "vec <- c(8, 2, 5, 0)\n",
    "sum_result <- sum_vector(vec)\n",
    "sum_result"
   ]
  },
  {
   "cell_type": "markdown",
   "id": "ef0305fc-5145-4751-aaec-bcbff62478a6",
   "metadata": {},
   "source": [
    "3. Напишите функцию для перемножения всех чисел вектора. Обратите внимание, что длина вектора может быть любой."
   ]
  },
  {
   "cell_type": "code",
   "execution_count": 7,
   "id": "4ff3b2c0-fbeb-45fa-bf1f-f8f7e2cdea9c",
   "metadata": {},
   "outputs": [],
   "source": [
    "multiply_vector <- function(vec) {\n",
    "  result <- 1\n",
    "  for (elem in vec) {\n",
    "    result <- result * elem\n",
    "  }\n",
    "  return(result)\n",
    "}"
   ]
  },
  {
   "cell_type": "code",
   "execution_count": 9,
   "id": "fa0d7b8a-2d11-4f77-8815-9d75436a67c9",
   "metadata": {},
   "outputs": [
    {
     "data": {
      "text/html": [
       "24"
      ],
      "text/latex": [
       "24"
      ],
      "text/markdown": [
       "24"
      ],
      "text/plain": [
       "[1] 24"
      ]
     },
     "metadata": {},
     "output_type": "display_data"
    }
   ],
   "source": [
    "vec <- c(2, 3, 4)\n",
    "mult_result <- multiply_vector(vec)\n",
    "mult_result"
   ]
  },
  {
   "cell_type": "markdown",
   "id": "0954cf19-b704-41d9-b68c-b70abb84ef28",
   "metadata": {},
   "source": [
    "4. Напишите функцию для обращения строки. "
   ]
  },
  {
   "cell_type": "code",
   "execution_count": 10,
   "id": "249e5f3e-c313-4368-a56f-b0bfcf4f2893",
   "metadata": {},
   "outputs": [],
   "source": [
    "reverse_string <- function(str) {\n",
    "  reversed_str <- paste(rev(strsplit(str, '')[[1]]), collapse='')\n",
    "  return(reversed_str)\n",
    "}"
   ]
  },
  {
   "cell_type": "code",
   "execution_count": 12,
   "id": "cbb48ee0-a93c-49e5-9bad-d62921b2aadf",
   "metadata": {},
   "outputs": [
    {
     "data": {
      "text/html": [
       "'dcba4321'"
      ],
      "text/latex": [
       "'dcba4321'"
      ],
      "text/markdown": [
       "'dcba4321'"
      ],
      "text/plain": [
       "[1] \"dcba4321\""
      ]
     },
     "metadata": {},
     "output_type": "display_data"
    }
   ],
   "source": [
    "input_str <- \"1234abcd\"\n",
    "reversed <- reverse_string(input_str)\n",
    "reversed"
   ]
  },
  {
   "cell_type": "markdown",
   "id": "b928c6b3-e376-4a51-8121-58af0f3fbbb1",
   "metadata": {},
   "source": [
    "5. Напишите функцию для вычисления факториала числа (неотрицательное целое число). Функция принимает число в качестве аргумента. "
   ]
  },
  {
   "cell_type": "code",
   "execution_count": 16,
   "id": "95e58db1-c6de-419a-b608-d69de71b2cd5",
   "metadata": {},
   "outputs": [],
   "source": [
    "factorial <- function(n) {\n",
    "  if (n == 0) {\n",
    "    return(1)\n",
    "  } else {\n",
    "    return(n * factorial(n - 1))\n",
    "  }\n",
    "}"
   ]
  },
  {
   "cell_type": "code",
   "execution_count": 18,
   "id": "8e19187e-3ca8-4e3e-8725-c9bb274bcf0b",
   "metadata": {},
   "outputs": [
    {
     "data": {
      "text/html": [
       "3628800"
      ],
      "text/latex": [
       "3628800"
      ],
      "text/markdown": [
       "3628800"
      ],
      "text/plain": [
       "[1] 3628800"
      ]
     },
     "metadata": {},
     "output_type": "display_data"
    }
   ],
   "source": [
    "num <- 10\n",
    "factorial_result <- factorial(num)\n",
    "factorial_result"
   ]
  },
  {
   "cell_type": "markdown",
   "id": "813bd596-6037-49d4-beae-ce9287477c59",
   "metadata": {},
   "source": [
    "6. Напишите функцию, чтобы проверить, находится ли число в заданном диапазоне. "
   ]
  },
  {
   "cell_type": "code",
   "execution_count": 19,
   "id": "696a88a0-c148-438f-9db1-7b624042635b",
   "metadata": {},
   "outputs": [],
   "source": [
    "check_range <- function(num, min_val, max_val) {\n",
    "  if (num >= min_val & num <= max_val) {\n",
    "    return(TRUE)\n",
    "  } else {\n",
    "    return(FALSE)\n",
    "  }\n",
    "}"
   ]
  },
  {
   "cell_type": "code",
   "execution_count": 21,
   "id": "e78f04fe-8e3e-4ee4-976a-5c1b44aa64ac",
   "metadata": {},
   "outputs": [
    {
     "data": {
      "text/html": [
       "FALSE"
      ],
      "text/latex": [
       "FALSE"
      ],
      "text/markdown": [
       "FALSE"
      ],
      "text/plain": [
       "[1] FALSE"
      ]
     },
     "metadata": {},
     "output_type": "display_data"
    }
   ],
   "source": [
    "num_to_check <- 10\n",
    "is_in_range <- check_range(num_to_check, -1, 1)\n",
    "is_in_range"
   ]
  },
  {
   "cell_type": "markdown",
   "id": "7eeb869e-7318-411e-bf8c-b504d49b0cc0",
   "metadata": {},
   "source": [
    "7. Напишите функцию, которая принимает строку и рассчитывает количество букв верхнего и нижнего регистра. Выведите элементы функции."
   ]
  },
  {
   "cell_type": "code",
   "execution_count": 83,
   "id": "bfa96d23-2101-487c-8eb7-0bfd8b649a0c",
   "metadata": {},
   "outputs": [],
   "source": [
    "count_letters <- function(str) {\n",
    "  str_spltitted <- strsplit(str, '')[[1]]\n",
    "  upper <- sum(grepl(\"[А-Я]\", str_spltitted))\n",
    "  lower <- sum(grepl(\"[а-я]\", str_spltitted))\n",
    "  return(list(uppercase=upper, lowercase=lower))\n",
    "}"
   ]
  },
  {
   "cell_type": "code",
   "execution_count": 84,
   "id": "4eca65bc-88fa-4ebd-bb8b-ef0d9bd98974",
   "metadata": {},
   "outputs": [
    {
     "data": {
      "text/html": [
       "<dl>\n",
       "\t<dt>$uppercase</dt>\n",
       "\t\t<dd>2</dd>\n",
       "\t<dt>$lowercase</dt>\n",
       "\t\t<dd>9</dd>\n",
       "</dl>\n"
      ],
      "text/latex": [
       "\\begin{description}\n",
       "\\item[\\$uppercase] 2\n",
       "\\item[\\$lowercase] 9\n",
       "\\end{description}\n"
      ],
      "text/markdown": [
       "$uppercase\n",
       ":   2\n",
       "$lowercase\n",
       ":   9\n",
       "\n",
       "\n"
      ],
      "text/plain": [
       "$uppercase\n",
       "[1] 2\n",
       "\n",
       "$lowercase\n",
       "[1] 9\n"
      ]
     },
     "metadata": {},
     "output_type": "display_data"
    }
   ],
   "source": [
    "input_string <- \"Быстрая Лиса-58\"\n",
    "letter_count <- count_letters(input_string)\n",
    "letter_count"
   ]
  },
  {
   "cell_type": "markdown",
   "id": "4b6cc3ad-f25b-4247-a0a4-ec2f345979c7",
   "metadata": {},
   "source": [
    "8."
   ]
  },
  {
   "cell_type": "code",
   "execution_count": 85,
   "id": "126ac318-7dc8-4eaf-9093-16be14693f03",
   "metadata": {},
   "outputs": [],
   "source": [
    "find_unique_elements <- function(vec) {\n",
    "  unique_vec <- c()\n",
    "  for (element in vec) {\n",
    "    if (!(element %in% unique_vec)) {\n",
    "      unique_vec <- c(unique_vec, element)\n",
    "    }\n",
    "  }\n",
    "  return(unique_vec)\n",
    "}"
   ]
  },
  {
   "cell_type": "code",
   "execution_count": 86,
   "id": "d1742284-323b-435f-b559-4c6a845a727d",
   "metadata": {},
   "outputs": [
    {
     "data": {
      "text/html": [
       "<style>\n",
       ".list-inline {list-style: none; margin:0; padding: 0}\n",
       ".list-inline>li {display: inline-block}\n",
       ".list-inline>li:not(:last-child)::after {content: \"\\00b7\"; padding: 0 .5ex}\n",
       "</style>\n",
       "<ol class=list-inline><li>1</li><li>2</li><li>3</li><li>4</li><li>5</li></ol>\n"
      ],
      "text/latex": [
       "\\begin{enumerate*}\n",
       "\\item 1\n",
       "\\item 2\n",
       "\\item 3\n",
       "\\item 4\n",
       "\\item 5\n",
       "\\end{enumerate*}\n"
      ],
      "text/markdown": [
       "1. 1\n",
       "2. 2\n",
       "3. 3\n",
       "4. 4\n",
       "5. 5\n",
       "\n",
       "\n"
      ],
      "text/plain": [
       "[1] 1 2 3 4 5"
      ]
     },
     "metadata": {},
     "output_type": "display_data"
    }
   ],
   "source": [
    "input_vector <- c(1, 2, 3, 3, 3, 3, 4, 5)\n",
    "unique_elements <- find_unique_elements(input_vector)\n",
    "unique_elements"
   ]
  },
  {
   "cell_type": "markdown",
   "id": "209d9f30-5273-4005-a3e7-2bb25f4d4642",
   "metadata": {},
   "source": [
    "9. Напишите функцию для печати четных чисел из заданного вектора. "
   ]
  },
  {
   "cell_type": "code",
   "execution_count": 87,
   "id": "9fff5772-6a81-429a-a428-6a37d73b5575",
   "metadata": {},
   "outputs": [],
   "source": [
    "print_even_numbers <- function(vec) {\n",
    "  for (num in vec) {\n",
    "    if (num %% 2 == 0) {\n",
    "      cat(num, \" \")\n",
    "    }\n",
    "  }\n",
    "}"
   ]
  },
  {
   "cell_type": "code",
   "execution_count": 88,
   "id": "e32f3cd2-0e5f-4e01-a8b3-fe96d7cb0254",
   "metadata": {},
   "outputs": [
    {
     "name": "stdout",
     "output_type": "stream",
     "text": [
      "2  4  6  8  "
     ]
    }
   ],
   "source": [
    "input_vector <- c(1, 2, 3, 4, 5, 6, 7, 8, 9)\n",
    "print_even_numbers(input_vector)"
   ]
  },
  {
   "cell_type": "markdown",
   "id": "ede70f57-9ef4-406a-952e-bb45e15238b5",
   "metadata": {},
   "source": [
    "10. Напишите функцию, которая проверяет, является ли переданная строка палиндромом или нет. \n",
    "Примечание. Палиндром - это слово, фраза или последовательность, которые читаются так же, как и вперёд, например, топот."
   ]
  },
  {
   "cell_type": "code",
   "execution_count": 90,
   "id": "41302dc2-c49e-4d21-bc28-f19501f12936",
   "metadata": {},
   "outputs": [],
   "source": [
    "is_palindrome <- function(str) {\n",
    "  n <- nchar(str)\n",
    "  for (i in 1:(n/2)) {\n",
    "    if (substr(str, i, i) != substr(str, n-i+1, n-i+1)) {\n",
    "      return(FALSE)\n",
    "    }\n",
    "  }\n",
    "  return(TRUE)\n",
    "}"
   ]
  },
  {
   "cell_type": "code",
   "execution_count": 95,
   "id": "bdd0e629-9b4b-46f1-8cc8-c6c51551f04a",
   "metadata": {},
   "outputs": [
    {
     "data": {
      "text/html": [
       "TRUE"
      ],
      "text/latex": [
       "TRUE"
      ],
      "text/markdown": [
       "TRUE"
      ],
      "text/plain": [
       "[1] TRUE"
      ]
     },
     "metadata": {},
     "output_type": "display_data"
    }
   ],
   "source": [
    "input_string <- \"hohohohohohoh\"\n",
    "result <- is_palindrome(input_string)\n",
    "result"
   ]
  },
  {
   "cell_type": "markdown",
   "id": "94be9274-7113-441d-829f-b12d97984927",
   "metadata": {},
   "source": [
    "11. Напишите функцию, чтобы проверить, является ли строка панграммой или нет. Примечание. Панграммы - это слова или предложения, содержащие каждую букву алфавита хотя бы один раз. Например: «The quick brown fox jumps over the lazy dog»"
   ]
  },
  {
   "cell_type": "code",
   "execution_count": 121,
   "id": "28799bc7-5afd-43b8-bdb4-71985ae4674a",
   "metadata": {},
   "outputs": [],
   "source": [
    "is_pangram <- function(str) {\n",
    "  alphabet <- LETTERS\n",
    "  str <- toupper(str)\n",
    "  str <- unlist(strsplit(str, \"\"))\n",
    "    \n",
    "  for (letter in alphabet) {\n",
    "    if (!(letter %in% str)) {\n",
    "        print(letter)\n",
    "      return(FALSE)\n",
    "    }\n",
    "  }\n",
    "  return(TRUE)\n",
    "}"
   ]
  },
  {
   "cell_type": "code",
   "execution_count": 122,
   "id": "7fdde990-f02d-4796-8dc1-8c25f201945f",
   "metadata": {},
   "outputs": [
    {
     "data": {
      "text/html": [
       "TRUE"
      ],
      "text/latex": [
       "TRUE"
      ],
      "text/markdown": [
       "TRUE"
      ],
      "text/plain": [
       "[1] TRUE"
      ]
     },
     "metadata": {},
     "output_type": "display_data"
    }
   ],
   "source": [
    "input_sentence <- \"The quick brown fox jumps over the lazy dog\"\n",
    "result <- is_pangram(input_sentence)\n",
    "result\n"
   ]
  },
  {
   "cell_type": "code",
   "execution_count": 123,
   "id": "eec97a93-694f-4856-840c-66a5130ea0d5",
   "metadata": {},
   "outputs": [
    {
     "data": {
      "text/html": [
       "<style>\n",
       ".list-inline {list-style: none; margin:0; padding: 0}\n",
       ".list-inline>li {display: inline-block}\n",
       ".list-inline>li:not(:last-child)::after {content: \"\\00b7\"; padding: 0 .5ex}\n",
       "</style>\n",
       "<ol class=list-inline><li>'A'</li><li>'B'</li><li>'C'</li><li>'D'</li><li>'E'</li><li>'F'</li><li>'G'</li><li>'H'</li><li>'I'</li><li>'J'</li><li>'K'</li><li>'L'</li><li>'M'</li><li>'N'</li><li>'O'</li><li>'P'</li><li>'Q'</li><li>'R'</li><li>'S'</li><li>'T'</li><li>'U'</li><li>'V'</li><li>'W'</li><li>'X'</li><li>'Y'</li><li>'Z'</li></ol>\n"
      ],
      "text/latex": [
       "\\begin{enumerate*}\n",
       "\\item 'A'\n",
       "\\item 'B'\n",
       "\\item 'C'\n",
       "\\item 'D'\n",
       "\\item 'E'\n",
       "\\item 'F'\n",
       "\\item 'G'\n",
       "\\item 'H'\n",
       "\\item 'I'\n",
       "\\item 'J'\n",
       "\\item 'K'\n",
       "\\item 'L'\n",
       "\\item 'M'\n",
       "\\item 'N'\n",
       "\\item 'O'\n",
       "\\item 'P'\n",
       "\\item 'Q'\n",
       "\\item 'R'\n",
       "\\item 'S'\n",
       "\\item 'T'\n",
       "\\item 'U'\n",
       "\\item 'V'\n",
       "\\item 'W'\n",
       "\\item 'X'\n",
       "\\item 'Y'\n",
       "\\item 'Z'\n",
       "\\end{enumerate*}\n"
      ],
      "text/markdown": [
       "1. 'A'\n",
       "2. 'B'\n",
       "3. 'C'\n",
       "4. 'D'\n",
       "5. 'E'\n",
       "6. 'F'\n",
       "7. 'G'\n",
       "8. 'H'\n",
       "9. 'I'\n",
       "10. 'J'\n",
       "11. 'K'\n",
       "12. 'L'\n",
       "13. 'M'\n",
       "14. 'N'\n",
       "15. 'O'\n",
       "16. 'P'\n",
       "17. 'Q'\n",
       "18. 'R'\n",
       "19. 'S'\n",
       "20. 'T'\n",
       "21. 'U'\n",
       "22. 'V'\n",
       "23. 'W'\n",
       "24. 'X'\n",
       "25. 'Y'\n",
       "26. 'Z'\n",
       "\n",
       "\n"
      ],
      "text/plain": [
       " [1] \"A\" \"B\" \"C\" \"D\" \"E\" \"F\" \"G\" \"H\" \"I\" \"J\" \"K\" \"L\" \"M\" \"N\" \"O\" \"P\" \"Q\" \"R\" \"S\"\n",
       "[20] \"T\" \"U\" \"V\" \"W\" \"X\" \"Y\" \"Z\""
      ]
     },
     "metadata": {},
     "output_type": "display_data"
    }
   ],
   "source": [
    "LETTERS"
   ]
  },
  {
   "cell_type": "markdown",
   "id": "6da660e1-ba77-48db-8647-b82aff0b3786",
   "metadata": {},
   "source": [
    "12. Напишите функцию, которая принимает в качестве входных данных последовательность слов, разделенных дефисами, и печатает слова в последовательности, разделенной дефисами, после сортировки по алфавиту. \n",
    "\n",
    "Образцы элементов: green-red-yellow-black\n",
    "\n",
    "Ожидаемый результат: black-green-red-yellow"
   ]
  },
  {
   "cell_type": "code",
   "execution_count": 124,
   "id": "90e8fad4-ad06-459a-8cf0-d96b9a9cd408",
   "metadata": {},
   "outputs": [],
   "source": [
    "sort_hyphenated_words <- function(words) {\n",
    "  words_list <- strsplit(words, \"-\")[[1]]\n",
    "  sorted_list <- sort(words_list)\n",
    "  result <- paste(sorted_list, collapse = \"-\")\n",
    "  cat(result)\n",
    "}"
   ]
  },
  {
   "cell_type": "code",
   "execution_count": 125,
   "id": "13904670-63fb-4831-b3e0-7560ee004e9f",
   "metadata": {},
   "outputs": [
    {
     "name": "stdout",
     "output_type": "stream",
     "text": [
      "black-green-red-yellow"
     ]
    }
   ],
   "source": [
    "sort_hyphenated_words(\"green-red-yellow-black\")"
   ]
  },
  {
   "cell_type": "code",
   "execution_count": 126,
   "id": "8c053933-104c-466f-b5ed-6bc8795fa68e",
   "metadata": {},
   "outputs": [],
   "source": [
    "generate_squares_list <- function(min_v, max_v) {\n",
    "  squares <- vector()\n",
    "  for (i in min_v:max_v) {\n",
    "    squares[i] <- i^2\n",
    "  }\n",
    "  return(squares)\n",
    "}"
   ]
  },
  {
   "cell_type": "code",
   "execution_count": 127,
   "id": "4347e1d7-5bc2-457c-b8e0-1c92bd3ab32f",
   "metadata": {},
   "outputs": [
    {
     "data": {
      "text/html": [
       "<style>\n",
       ".list-inline {list-style: none; margin:0; padding: 0}\n",
       ".list-inline>li {display: inline-block}\n",
       ".list-inline>li:not(:last-child)::after {content: \"\\00b7\"; padding: 0 .5ex}\n",
       "</style>\n",
       "<ol class=list-inline><li>1</li><li>4</li><li>9</li><li>16</li><li>25</li><li>36</li><li>49</li><li>64</li><li>81</li><li>100</li><li>121</li><li>144</li><li>169</li><li>196</li><li>225</li><li>256</li><li>289</li><li>324</li><li>361</li><li>400</li><li>441</li><li>484</li><li>529</li><li>576</li><li>625</li><li>676</li><li>729</li><li>784</li><li>841</li><li>900</li></ol>\n"
      ],
      "text/latex": [
       "\\begin{enumerate*}\n",
       "\\item 1\n",
       "\\item 4\n",
       "\\item 9\n",
       "\\item 16\n",
       "\\item 25\n",
       "\\item 36\n",
       "\\item 49\n",
       "\\item 64\n",
       "\\item 81\n",
       "\\item 100\n",
       "\\item 121\n",
       "\\item 144\n",
       "\\item 169\n",
       "\\item 196\n",
       "\\item 225\n",
       "\\item 256\n",
       "\\item 289\n",
       "\\item 324\n",
       "\\item 361\n",
       "\\item 400\n",
       "\\item 441\n",
       "\\item 484\n",
       "\\item 529\n",
       "\\item 576\n",
       "\\item 625\n",
       "\\item 676\n",
       "\\item 729\n",
       "\\item 784\n",
       "\\item 841\n",
       "\\item 900\n",
       "\\end{enumerate*}\n"
      ],
      "text/markdown": [
       "1. 1\n",
       "2. 4\n",
       "3. 9\n",
       "4. 16\n",
       "5. 25\n",
       "6. 36\n",
       "7. 49\n",
       "8. 64\n",
       "9. 81\n",
       "10. 100\n",
       "11. 121\n",
       "12. 144\n",
       "13. 169\n",
       "14. 196\n",
       "15. 225\n",
       "16. 256\n",
       "17. 289\n",
       "18. 324\n",
       "19. 361\n",
       "20. 400\n",
       "21. 441\n",
       "22. 484\n",
       "23. 529\n",
       "24. 576\n",
       "25. 625\n",
       "26. 676\n",
       "27. 729\n",
       "28. 784\n",
       "29. 841\n",
       "30. 900\n",
       "\n",
       "\n"
      ],
      "text/plain": [
       " [1]   1   4   9  16  25  36  49  64  81 100 121 144 169 196 225 256 289 324 361\n",
       "[20] 400 441 484 529 576 625 676 729 784 841 900"
      ]
     },
     "metadata": {},
     "output_type": "display_data"
    }
   ],
   "source": [
    "generate_squares_list(1,30)"
   ]
  },
  {
   "cell_type": "code",
   "execution_count": null,
   "id": "0232456d-9c8b-4fc8-ae78-370f1d9d3eb3",
   "metadata": {},
   "outputs": [],
   "source": []
  }
 ],
 "metadata": {
  "kernelspec": {
   "display_name": "R",
   "language": "R",
   "name": "ir"
  },
  "language_info": {
   "codemirror_mode": "r",
   "file_extension": ".r",
   "mimetype": "text/x-r-source",
   "name": "R",
   "pygments_lexer": "r",
   "version": "4.3.1"
  }
 },
 "nbformat": 4,
 "nbformat_minor": 5
}
