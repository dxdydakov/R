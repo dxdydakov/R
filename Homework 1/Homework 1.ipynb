{
 "cells": [
  {
   "cell_type": "markdown",
   "id": "3ae3dd96-6a14-478f-95d6-b477bbc53a15",
   "metadata": {},
   "source": [
    "# Домашнее задание № 1"
   ]
  },
  {
   "cell_type": "markdown",
   "id": "91724cdf-00e9-434e-b796-068e39e49360",
   "metadata": {},
   "source": [
    "Для встроенного датасета USArrests определить:\n",
    "1. Количество строк и столбцов(dim, ncol, nrow)"
   ]
  },
  {
   "cell_type": "code",
   "execution_count": 70,
   "id": "1772f999-8e51-4bf3-8f90-7e1c7f8c9670",
   "metadata": {},
   "outputs": [
    {
     "name": "stdout",
     "output_type": "stream",
     "text": [
      "Количество строк и столбцов: 50 4 \n",
      "Количество строк: 50 \n",
      "Количество столбцов: 4 \n"
     ]
    }
   ],
   "source": [
    "df <- USArrests\n",
    "\n",
    "cat('Количество строк и столбцов:',  dim(df), '\\n')\n",
    "cat('Количество строк:', nrow(df), '\\n')\n",
    "cat('Количество столбцов:', ncol(df), '\\n')"
   ]
  },
  {
   "cell_type": "markdown",
   "id": "bb8199ec-8279-4622-9623-6d05b1574eb7",
   "metadata": {},
   "source": [
    "2. Вывести на консоль содержание первых строк (head, tail, обращение по индексам строк):"
   ]
  },
  {
   "cell_type": "code",
   "execution_count": 71,
   "id": "fde5b128-9188-45ad-b5de-19bebf555406",
   "metadata": {},
   "outputs": [
    {
     "data": {
      "text/html": [
       "<table class=\"dataframe\">\n",
       "<caption>A data.frame: 6 × 4</caption>\n",
       "<thead>\n",
       "\t<tr><th></th><th scope=col>Murder</th><th scope=col>Assault</th><th scope=col>UrbanPop</th><th scope=col>Rape</th></tr>\n",
       "\t<tr><th></th><th scope=col>&lt;dbl&gt;</th><th scope=col>&lt;int&gt;</th><th scope=col>&lt;int&gt;</th><th scope=col>&lt;dbl&gt;</th></tr>\n",
       "</thead>\n",
       "<tbody>\n",
       "\t<tr><th scope=row>Alabama</th><td>13.2</td><td>236</td><td>58</td><td>21.2</td></tr>\n",
       "\t<tr><th scope=row>Alaska</th><td>10.0</td><td>263</td><td>48</td><td>44.5</td></tr>\n",
       "\t<tr><th scope=row>Arizona</th><td> 8.1</td><td>294</td><td>80</td><td>31.0</td></tr>\n",
       "\t<tr><th scope=row>Arkansas</th><td> 8.8</td><td>190</td><td>50</td><td>19.5</td></tr>\n",
       "\t<tr><th scope=row>California</th><td> 9.0</td><td>276</td><td>91</td><td>40.6</td></tr>\n",
       "\t<tr><th scope=row>Colorado</th><td> 7.9</td><td>204</td><td>78</td><td>38.7</td></tr>\n",
       "</tbody>\n",
       "</table>\n"
      ],
      "text/latex": [
       "A data.frame: 6 × 4\n",
       "\\begin{tabular}{r|llll}\n",
       "  & Murder & Assault & UrbanPop & Rape\\\\\n",
       "  & <dbl> & <int> & <int> & <dbl>\\\\\n",
       "\\hline\n",
       "\tAlabama & 13.2 & 236 & 58 & 21.2\\\\\n",
       "\tAlaska & 10.0 & 263 & 48 & 44.5\\\\\n",
       "\tArizona &  8.1 & 294 & 80 & 31.0\\\\\n",
       "\tArkansas &  8.8 & 190 & 50 & 19.5\\\\\n",
       "\tCalifornia &  9.0 & 276 & 91 & 40.6\\\\\n",
       "\tColorado &  7.9 & 204 & 78 & 38.7\\\\\n",
       "\\end{tabular}\n"
      ],
      "text/markdown": [
       "\n",
       "A data.frame: 6 × 4\n",
       "\n",
       "| <!--/--> | Murder &lt;dbl&gt; | Assault &lt;int&gt; | UrbanPop &lt;int&gt; | Rape &lt;dbl&gt; |\n",
       "|---|---|---|---|---|\n",
       "| Alabama | 13.2 | 236 | 58 | 21.2 |\n",
       "| Alaska | 10.0 | 263 | 48 | 44.5 |\n",
       "| Arizona |  8.1 | 294 | 80 | 31.0 |\n",
       "| Arkansas |  8.8 | 190 | 50 | 19.5 |\n",
       "| California |  9.0 | 276 | 91 | 40.6 |\n",
       "| Colorado |  7.9 | 204 | 78 | 38.7 |\n",
       "\n"
      ],
      "text/plain": [
       "           Murder Assault UrbanPop Rape\n",
       "Alabama    13.2   236     58       21.2\n",
       "Alaska     10.0   263     48       44.5\n",
       "Arizona     8.1   294     80       31.0\n",
       "Arkansas    8.8   190     50       19.5\n",
       "California  9.0   276     91       40.6\n",
       "Colorado    7.9   204     78       38.7"
      ]
     },
     "metadata": {},
     "output_type": "display_data"
    }
   ],
   "source": [
    "head(df)"
   ]
  },
  {
   "cell_type": "code",
   "execution_count": 72,
   "id": "6474205b-1d4a-4035-9ef2-a66e3e32f195",
   "metadata": {},
   "outputs": [
    {
     "data": {
      "text/html": [
       "<table class=\"dataframe\">\n",
       "<caption>A data.frame: 6 × 4</caption>\n",
       "<thead>\n",
       "\t<tr><th></th><th scope=col>Murder</th><th scope=col>Assault</th><th scope=col>UrbanPop</th><th scope=col>Rape</th></tr>\n",
       "\t<tr><th></th><th scope=col>&lt;dbl&gt;</th><th scope=col>&lt;int&gt;</th><th scope=col>&lt;int&gt;</th><th scope=col>&lt;dbl&gt;</th></tr>\n",
       "</thead>\n",
       "<tbody>\n",
       "\t<tr><th scope=row>Vermont</th><td>2.2</td><td> 48</td><td>32</td><td>11.2</td></tr>\n",
       "\t<tr><th scope=row>Virginia</th><td>8.5</td><td>156</td><td>63</td><td>20.7</td></tr>\n",
       "\t<tr><th scope=row>Washington</th><td>4.0</td><td>145</td><td>73</td><td>26.2</td></tr>\n",
       "\t<tr><th scope=row>West Virginia</th><td>5.7</td><td> 81</td><td>39</td><td> 9.3</td></tr>\n",
       "\t<tr><th scope=row>Wisconsin</th><td>2.6</td><td> 53</td><td>66</td><td>10.8</td></tr>\n",
       "\t<tr><th scope=row>Wyoming</th><td>6.8</td><td>161</td><td>60</td><td>15.6</td></tr>\n",
       "</tbody>\n",
       "</table>\n"
      ],
      "text/latex": [
       "A data.frame: 6 × 4\n",
       "\\begin{tabular}{r|llll}\n",
       "  & Murder & Assault & UrbanPop & Rape\\\\\n",
       "  & <dbl> & <int> & <int> & <dbl>\\\\\n",
       "\\hline\n",
       "\tVermont & 2.2 &  48 & 32 & 11.2\\\\\n",
       "\tVirginia & 8.5 & 156 & 63 & 20.7\\\\\n",
       "\tWashington & 4.0 & 145 & 73 & 26.2\\\\\n",
       "\tWest Virginia & 5.7 &  81 & 39 &  9.3\\\\\n",
       "\tWisconsin & 2.6 &  53 & 66 & 10.8\\\\\n",
       "\tWyoming & 6.8 & 161 & 60 & 15.6\\\\\n",
       "\\end{tabular}\n"
      ],
      "text/markdown": [
       "\n",
       "A data.frame: 6 × 4\n",
       "\n",
       "| <!--/--> | Murder &lt;dbl&gt; | Assault &lt;int&gt; | UrbanPop &lt;int&gt; | Rape &lt;dbl&gt; |\n",
       "|---|---|---|---|---|\n",
       "| Vermont | 2.2 |  48 | 32 | 11.2 |\n",
       "| Virginia | 8.5 | 156 | 63 | 20.7 |\n",
       "| Washington | 4.0 | 145 | 73 | 26.2 |\n",
       "| West Virginia | 5.7 |  81 | 39 |  9.3 |\n",
       "| Wisconsin | 2.6 |  53 | 66 | 10.8 |\n",
       "| Wyoming | 6.8 | 161 | 60 | 15.6 |\n",
       "\n"
      ],
      "text/plain": [
       "              Murder Assault UrbanPop Rape\n",
       "Vermont       2.2     48     32       11.2\n",
       "Virginia      8.5    156     63       20.7\n",
       "Washington    4.0    145     73       26.2\n",
       "West Virginia 5.7     81     39        9.3\n",
       "Wisconsin     2.6     53     66       10.8\n",
       "Wyoming       6.8    161     60       15.6"
      ]
     },
     "metadata": {},
     "output_type": "display_data"
    }
   ],
   "source": [
    "tail(df)"
   ]
  },
  {
   "cell_type": "markdown",
   "id": "a03399f2-abcc-431b-b49c-76d4d4a557e7",
   "metadata": {},
   "source": [
    "3. Вывести на консоль 16-20 элементы 3 столбца, обратившись к нему по имени (обращение по именам столбцов, индексам строк):"
   ]
  },
  {
   "cell_type": "code",
   "execution_count": 73,
   "id": "9d63f97f-592b-499d-8f88-a1100448a5c7",
   "metadata": {},
   "outputs": [
    {
     "data": {
      "text/html": [
       "<style>\n",
       ".list-inline {list-style: none; margin:0; padding: 0}\n",
       ".list-inline>li {display: inline-block}\n",
       ".list-inline>li:not(:last-child)::after {content: \"\\00b7\"; padding: 0 .5ex}\n",
       "</style>\n",
       "<ol class=list-inline><li>6</li><li>9.7</li><li>15.4</li><li>2.1</li><li>11.3</li></ol>\n"
      ],
      "text/latex": [
       "\\begin{enumerate*}\n",
       "\\item 6\n",
       "\\item 9.7\n",
       "\\item 15.4\n",
       "\\item 2.1\n",
       "\\item 11.3\n",
       "\\end{enumerate*}\n"
      ],
      "text/markdown": [
       "1. 6\n",
       "2. 9.7\n",
       "3. 15.4\n",
       "4. 2.1\n",
       "5. 11.3\n",
       "\n",
       "\n"
      ],
      "text/plain": [
       "[1]  6.0  9.7 15.4  2.1 11.3"
      ]
     },
     "metadata": {},
     "output_type": "display_data"
    }
   ],
   "source": [
    "df[16:20, 'Murder']"
   ]
  },
  {
   "cell_type": "markdown",
   "id": "aa78c959-3361-45fb-93b0-68fe2206a1fe",
   "metadata": {},
   "source": [
    "4. Тип/структуру/подтип данных для датасета в целом и каждого столбца (mode, class, typeof, цикл for, print):"
   ]
  },
  {
   "cell_type": "code",
   "execution_count": 74,
   "id": "cfd105e2-4fe8-42ce-a04c-f39f6673fd6c",
   "metadata": {},
   "outputs": [
    {
     "data": {
      "text/html": [
       "'data.frame'"
      ],
      "text/latex": [
       "'data.frame'"
      ],
      "text/markdown": [
       "'data.frame'"
      ],
      "text/plain": [
       "[1] \"data.frame\""
      ]
     },
     "metadata": {},
     "output_type": "display_data"
    }
   ],
   "source": [
    "class(df)"
   ]
  },
  {
   "cell_type": "code",
   "execution_count": 75,
   "id": "bd9b8006-27fe-4528-a677-4572c10feb9d",
   "metadata": {},
   "outputs": [
    {
     "name": "stdout",
     "output_type": "stream",
     "text": [
      "Murder column type is numeric \n",
      "Assault column type is integer \n",
      "UrbanPop column type is integer \n",
      "Rape column type is numeric \n"
     ]
    }
   ],
   "source": [
    "for (i in 1:ncol(df)) {\n",
    "  cat(colnames(df)[i], \"column type is\",  class(df[, i]), \"\\n\")\n",
    "}"
   ]
  },
  {
   "cell_type": "markdown",
   "id": "2dbbd2d1-8184-4fc4-a2bb-5d05efc4dab5",
   "metadata": {},
   "source": [
    "5. Имена столбцов и строк (colnames, rownames, dimnames):"
   ]
  },
  {
   "cell_type": "code",
   "execution_count": 76,
   "id": "57a53559-50b1-43a6-9778-f440cfb418cf",
   "metadata": {},
   "outputs": [
    {
     "data": {
      "text/html": [
       "<style>\n",
       ".list-inline {list-style: none; margin:0; padding: 0}\n",
       ".list-inline>li {display: inline-block}\n",
       ".list-inline>li:not(:last-child)::after {content: \"\\00b7\"; padding: 0 .5ex}\n",
       "</style>\n",
       "<ol class=list-inline><li>'Murder'</li><li>'Assault'</li><li>'UrbanPop'</li><li>'Rape'</li></ol>\n"
      ],
      "text/latex": [
       "\\begin{enumerate*}\n",
       "\\item 'Murder'\n",
       "\\item 'Assault'\n",
       "\\item 'UrbanPop'\n",
       "\\item 'Rape'\n",
       "\\end{enumerate*}\n"
      ],
      "text/markdown": [
       "1. 'Murder'\n",
       "2. 'Assault'\n",
       "3. 'UrbanPop'\n",
       "4. 'Rape'\n",
       "\n",
       "\n"
      ],
      "text/plain": [
       "[1] \"Murder\"   \"Assault\"  \"UrbanPop\" \"Rape\"    "
      ]
     },
     "metadata": {},
     "output_type": "display_data"
    }
   ],
   "source": [
    "colnames(df)"
   ]
  },
  {
   "cell_type": "code",
   "execution_count": 77,
   "id": "144fbcb0-c6eb-4cb4-8505-0d278cc979e3",
   "metadata": {},
   "outputs": [
    {
     "data": {
      "text/html": [
       "<style>\n",
       ".list-inline {list-style: none; margin:0; padding: 0}\n",
       ".list-inline>li {display: inline-block}\n",
       ".list-inline>li:not(:last-child)::after {content: \"\\00b7\"; padding: 0 .5ex}\n",
       "</style>\n",
       "<ol class=list-inline><li>'Alabama'</li><li>'Alaska'</li><li>'Arizona'</li><li>'Arkansas'</li><li>'California'</li><li>'Colorado'</li><li>'Connecticut'</li><li>'Delaware'</li><li>'Florida'</li><li>'Georgia'</li><li>'Hawaii'</li><li>'Idaho'</li><li>'Illinois'</li><li>'Indiana'</li><li>'Iowa'</li><li>'Kansas'</li><li>'Kentucky'</li><li>'Louisiana'</li><li>'Maine'</li><li>'Maryland'</li><li>'Massachusetts'</li><li>'Michigan'</li><li>'Minnesota'</li><li>'Mississippi'</li><li>'Missouri'</li><li>'Montana'</li><li>'Nebraska'</li><li>'Nevada'</li><li>'New Hampshire'</li><li>'New Jersey'</li><li>'New Mexico'</li><li>'New York'</li><li>'North Carolina'</li><li>'North Dakota'</li><li>'Ohio'</li><li>'Oklahoma'</li><li>'Oregon'</li><li>'Pennsylvania'</li><li>'Rhode Island'</li><li>'South Carolina'</li><li>'South Dakota'</li><li>'Tennessee'</li><li>'Texas'</li><li>'Utah'</li><li>'Vermont'</li><li>'Virginia'</li><li>'Washington'</li><li>'West Virginia'</li><li>'Wisconsin'</li><li>'Wyoming'</li></ol>\n"
      ],
      "text/latex": [
       "\\begin{enumerate*}\n",
       "\\item 'Alabama'\n",
       "\\item 'Alaska'\n",
       "\\item 'Arizona'\n",
       "\\item 'Arkansas'\n",
       "\\item 'California'\n",
       "\\item 'Colorado'\n",
       "\\item 'Connecticut'\n",
       "\\item 'Delaware'\n",
       "\\item 'Florida'\n",
       "\\item 'Georgia'\n",
       "\\item 'Hawaii'\n",
       "\\item 'Idaho'\n",
       "\\item 'Illinois'\n",
       "\\item 'Indiana'\n",
       "\\item 'Iowa'\n",
       "\\item 'Kansas'\n",
       "\\item 'Kentucky'\n",
       "\\item 'Louisiana'\n",
       "\\item 'Maine'\n",
       "\\item 'Maryland'\n",
       "\\item 'Massachusetts'\n",
       "\\item 'Michigan'\n",
       "\\item 'Minnesota'\n",
       "\\item 'Mississippi'\n",
       "\\item 'Missouri'\n",
       "\\item 'Montana'\n",
       "\\item 'Nebraska'\n",
       "\\item 'Nevada'\n",
       "\\item 'New Hampshire'\n",
       "\\item 'New Jersey'\n",
       "\\item 'New Mexico'\n",
       "\\item 'New York'\n",
       "\\item 'North Carolina'\n",
       "\\item 'North Dakota'\n",
       "\\item 'Ohio'\n",
       "\\item 'Oklahoma'\n",
       "\\item 'Oregon'\n",
       "\\item 'Pennsylvania'\n",
       "\\item 'Rhode Island'\n",
       "\\item 'South Carolina'\n",
       "\\item 'South Dakota'\n",
       "\\item 'Tennessee'\n",
       "\\item 'Texas'\n",
       "\\item 'Utah'\n",
       "\\item 'Vermont'\n",
       "\\item 'Virginia'\n",
       "\\item 'Washington'\n",
       "\\item 'West Virginia'\n",
       "\\item 'Wisconsin'\n",
       "\\item 'Wyoming'\n",
       "\\end{enumerate*}\n"
      ],
      "text/markdown": [
       "1. 'Alabama'\n",
       "2. 'Alaska'\n",
       "3. 'Arizona'\n",
       "4. 'Arkansas'\n",
       "5. 'California'\n",
       "6. 'Colorado'\n",
       "7. 'Connecticut'\n",
       "8. 'Delaware'\n",
       "9. 'Florida'\n",
       "10. 'Georgia'\n",
       "11. 'Hawaii'\n",
       "12. 'Idaho'\n",
       "13. 'Illinois'\n",
       "14. 'Indiana'\n",
       "15. 'Iowa'\n",
       "16. 'Kansas'\n",
       "17. 'Kentucky'\n",
       "18. 'Louisiana'\n",
       "19. 'Maine'\n",
       "20. 'Maryland'\n",
       "21. 'Massachusetts'\n",
       "22. 'Michigan'\n",
       "23. 'Minnesota'\n",
       "24. 'Mississippi'\n",
       "25. 'Missouri'\n",
       "26. 'Montana'\n",
       "27. 'Nebraska'\n",
       "28. 'Nevada'\n",
       "29. 'New Hampshire'\n",
       "30. 'New Jersey'\n",
       "31. 'New Mexico'\n",
       "32. 'New York'\n",
       "33. 'North Carolina'\n",
       "34. 'North Dakota'\n",
       "35. 'Ohio'\n",
       "36. 'Oklahoma'\n",
       "37. 'Oregon'\n",
       "38. 'Pennsylvania'\n",
       "39. 'Rhode Island'\n",
       "40. 'South Carolina'\n",
       "41. 'South Dakota'\n",
       "42. 'Tennessee'\n",
       "43. 'Texas'\n",
       "44. 'Utah'\n",
       "45. 'Vermont'\n",
       "46. 'Virginia'\n",
       "47. 'Washington'\n",
       "48. 'West Virginia'\n",
       "49. 'Wisconsin'\n",
       "50. 'Wyoming'\n",
       "\n",
       "\n"
      ],
      "text/plain": [
       " [1] \"Alabama\"        \"Alaska\"         \"Arizona\"        \"Arkansas\"      \n",
       " [5] \"California\"     \"Colorado\"       \"Connecticut\"    \"Delaware\"      \n",
       " [9] \"Florida\"        \"Georgia\"        \"Hawaii\"         \"Idaho\"         \n",
       "[13] \"Illinois\"       \"Indiana\"        \"Iowa\"           \"Kansas\"        \n",
       "[17] \"Kentucky\"       \"Louisiana\"      \"Maine\"          \"Maryland\"      \n",
       "[21] \"Massachusetts\"  \"Michigan\"       \"Minnesota\"      \"Mississippi\"   \n",
       "[25] \"Missouri\"       \"Montana\"        \"Nebraska\"       \"Nevada\"        \n",
       "[29] \"New Hampshire\"  \"New Jersey\"     \"New Mexico\"     \"New York\"      \n",
       "[33] \"North Carolina\" \"North Dakota\"   \"Ohio\"           \"Oklahoma\"      \n",
       "[37] \"Oregon\"         \"Pennsylvania\"   \"Rhode Island\"   \"South Carolina\"\n",
       "[41] \"South Dakota\"   \"Tennessee\"      \"Texas\"          \"Utah\"          \n",
       "[45] \"Vermont\"        \"Virginia\"       \"Washington\"     \"West Virginia\" \n",
       "[49] \"Wisconsin\"      \"Wyoming\"       "
      ]
     },
     "metadata": {},
     "output_type": "display_data"
    }
   ],
   "source": [
    "rownames(df)"
   ]
  },
  {
   "cell_type": "code",
   "execution_count": 78,
   "id": "0f299f3c-feaf-4eea-8495-33333c0671a1",
   "metadata": {},
   "outputs": [
    {
     "data": {
      "text/html": [
       "<ol>\n",
       "\t<li><style>\n",
       ".list-inline {list-style: none; margin:0; padding: 0}\n",
       ".list-inline>li {display: inline-block}\n",
       ".list-inline>li:not(:last-child)::after {content: \"\\00b7\"; padding: 0 .5ex}\n",
       "</style>\n",
       "<ol class=list-inline><li>'Alabama'</li><li>'Alaska'</li><li>'Arizona'</li><li>'Arkansas'</li><li>'California'</li><li>'Colorado'</li><li>'Connecticut'</li><li>'Delaware'</li><li>'Florida'</li><li>'Georgia'</li><li>'Hawaii'</li><li>'Idaho'</li><li>'Illinois'</li><li>'Indiana'</li><li>'Iowa'</li><li>'Kansas'</li><li>'Kentucky'</li><li>'Louisiana'</li><li>'Maine'</li><li>'Maryland'</li><li>'Massachusetts'</li><li>'Michigan'</li><li>'Minnesota'</li><li>'Mississippi'</li><li>'Missouri'</li><li>'Montana'</li><li>'Nebraska'</li><li>'Nevada'</li><li>'New Hampshire'</li><li>'New Jersey'</li><li>'New Mexico'</li><li>'New York'</li><li>'North Carolina'</li><li>'North Dakota'</li><li>'Ohio'</li><li>'Oklahoma'</li><li>'Oregon'</li><li>'Pennsylvania'</li><li>'Rhode Island'</li><li>'South Carolina'</li><li>'South Dakota'</li><li>'Tennessee'</li><li>'Texas'</li><li>'Utah'</li><li>'Vermont'</li><li>'Virginia'</li><li>'Washington'</li><li>'West Virginia'</li><li>'Wisconsin'</li><li>'Wyoming'</li></ol>\n",
       "</li>\n",
       "\t<li><style>\n",
       ".list-inline {list-style: none; margin:0; padding: 0}\n",
       ".list-inline>li {display: inline-block}\n",
       ".list-inline>li:not(:last-child)::after {content: \"\\00b7\"; padding: 0 .5ex}\n",
       "</style>\n",
       "<ol class=list-inline><li>'Murder'</li><li>'Assault'</li><li>'UrbanPop'</li><li>'Rape'</li></ol>\n",
       "</li>\n",
       "</ol>\n"
      ],
      "text/latex": [
       "\\begin{enumerate}\n",
       "\\item \\begin{enumerate*}\n",
       "\\item 'Alabama'\n",
       "\\item 'Alaska'\n",
       "\\item 'Arizona'\n",
       "\\item 'Arkansas'\n",
       "\\item 'California'\n",
       "\\item 'Colorado'\n",
       "\\item 'Connecticut'\n",
       "\\item 'Delaware'\n",
       "\\item 'Florida'\n",
       "\\item 'Georgia'\n",
       "\\item 'Hawaii'\n",
       "\\item 'Idaho'\n",
       "\\item 'Illinois'\n",
       "\\item 'Indiana'\n",
       "\\item 'Iowa'\n",
       "\\item 'Kansas'\n",
       "\\item 'Kentucky'\n",
       "\\item 'Louisiana'\n",
       "\\item 'Maine'\n",
       "\\item 'Maryland'\n",
       "\\item 'Massachusetts'\n",
       "\\item 'Michigan'\n",
       "\\item 'Minnesota'\n",
       "\\item 'Mississippi'\n",
       "\\item 'Missouri'\n",
       "\\item 'Montana'\n",
       "\\item 'Nebraska'\n",
       "\\item 'Nevada'\n",
       "\\item 'New Hampshire'\n",
       "\\item 'New Jersey'\n",
       "\\item 'New Mexico'\n",
       "\\item 'New York'\n",
       "\\item 'North Carolina'\n",
       "\\item 'North Dakota'\n",
       "\\item 'Ohio'\n",
       "\\item 'Oklahoma'\n",
       "\\item 'Oregon'\n",
       "\\item 'Pennsylvania'\n",
       "\\item 'Rhode Island'\n",
       "\\item 'South Carolina'\n",
       "\\item 'South Dakota'\n",
       "\\item 'Tennessee'\n",
       "\\item 'Texas'\n",
       "\\item 'Utah'\n",
       "\\item 'Vermont'\n",
       "\\item 'Virginia'\n",
       "\\item 'Washington'\n",
       "\\item 'West Virginia'\n",
       "\\item 'Wisconsin'\n",
       "\\item 'Wyoming'\n",
       "\\end{enumerate*}\n",
       "\n",
       "\\item \\begin{enumerate*}\n",
       "\\item 'Murder'\n",
       "\\item 'Assault'\n",
       "\\item 'UrbanPop'\n",
       "\\item 'Rape'\n",
       "\\end{enumerate*}\n",
       "\n",
       "\\end{enumerate}\n"
      ],
      "text/markdown": [
       "1. 1. 'Alabama'\n",
       "2. 'Alaska'\n",
       "3. 'Arizona'\n",
       "4. 'Arkansas'\n",
       "5. 'California'\n",
       "6. 'Colorado'\n",
       "7. 'Connecticut'\n",
       "8. 'Delaware'\n",
       "9. 'Florida'\n",
       "10. 'Georgia'\n",
       "11. 'Hawaii'\n",
       "12. 'Idaho'\n",
       "13. 'Illinois'\n",
       "14. 'Indiana'\n",
       "15. 'Iowa'\n",
       "16. 'Kansas'\n",
       "17. 'Kentucky'\n",
       "18. 'Louisiana'\n",
       "19. 'Maine'\n",
       "20. 'Maryland'\n",
       "21. 'Massachusetts'\n",
       "22. 'Michigan'\n",
       "23. 'Minnesota'\n",
       "24. 'Mississippi'\n",
       "25. 'Missouri'\n",
       "26. 'Montana'\n",
       "27. 'Nebraska'\n",
       "28. 'Nevada'\n",
       "29. 'New Hampshire'\n",
       "30. 'New Jersey'\n",
       "31. 'New Mexico'\n",
       "32. 'New York'\n",
       "33. 'North Carolina'\n",
       "34. 'North Dakota'\n",
       "35. 'Ohio'\n",
       "36. 'Oklahoma'\n",
       "37. 'Oregon'\n",
       "38. 'Pennsylvania'\n",
       "39. 'Rhode Island'\n",
       "40. 'South Carolina'\n",
       "41. 'South Dakota'\n",
       "42. 'Tennessee'\n",
       "43. 'Texas'\n",
       "44. 'Utah'\n",
       "45. 'Vermont'\n",
       "46. 'Virginia'\n",
       "47. 'Washington'\n",
       "48. 'West Virginia'\n",
       "49. 'Wisconsin'\n",
       "50. 'Wyoming'\n",
       "\n",
       "\n",
       "\n",
       "2. 1. 'Murder'\n",
       "2. 'Assault'\n",
       "3. 'UrbanPop'\n",
       "4. 'Rape'\n",
       "\n",
       "\n",
       "\n",
       "\n",
       "\n"
      ],
      "text/plain": [
       "[[1]]\n",
       " [1] \"Alabama\"        \"Alaska\"         \"Arizona\"        \"Arkansas\"      \n",
       " [5] \"California\"     \"Colorado\"       \"Connecticut\"    \"Delaware\"      \n",
       " [9] \"Florida\"        \"Georgia\"        \"Hawaii\"         \"Idaho\"         \n",
       "[13] \"Illinois\"       \"Indiana\"        \"Iowa\"           \"Kansas\"        \n",
       "[17] \"Kentucky\"       \"Louisiana\"      \"Maine\"          \"Maryland\"      \n",
       "[21] \"Massachusetts\"  \"Michigan\"       \"Minnesota\"      \"Mississippi\"   \n",
       "[25] \"Missouri\"       \"Montana\"        \"Nebraska\"       \"Nevada\"        \n",
       "[29] \"New Hampshire\"  \"New Jersey\"     \"New Mexico\"     \"New York\"      \n",
       "[33] \"North Carolina\" \"North Dakota\"   \"Ohio\"           \"Oklahoma\"      \n",
       "[37] \"Oregon\"         \"Pennsylvania\"   \"Rhode Island\"   \"South Carolina\"\n",
       "[41] \"South Dakota\"   \"Tennessee\"      \"Texas\"          \"Utah\"          \n",
       "[45] \"Vermont\"        \"Virginia\"       \"Washington\"     \"West Virginia\" \n",
       "[49] \"Wisconsin\"      \"Wyoming\"       \n",
       "\n",
       "[[2]]\n",
       "[1] \"Murder\"   \"Assault\"  \"UrbanPop\" \"Rape\"    \n"
      ]
     },
     "metadata": {},
     "output_type": "display_data"
    }
   ],
   "source": [
    "dimnames(df)"
   ]
  },
  {
   "cell_type": "markdown",
   "id": "ab603355-435e-47e1-951c-4d11e34a4456",
   "metadata": {},
   "source": [
    "6. Сумму, среднее, дисперсию, среднеквадратическое отклонение всего датасета (sum, mean, sd, var):"
   ]
  },
  {
   "cell_type": "code",
   "execution_count": 79,
   "id": "f7000a8e-a814-49ab-98ac-c4c43ea884da",
   "metadata": {},
   "outputs": [
    {
     "name": "stdout",
     "output_type": "stream",
     "text": [
      "Сумма по всему датасету: 13266 \n",
      "Среднее по всему датасету: 66.33 \n",
      "Дисперсия по всему датасету: 5900.352 \n",
      "Среднеквадратическое отклонение по всему датасету: 76.81375 \n"
     ]
    }
   ],
   "source": [
    "cat(\"Сумма по всему датасету:\", sum(df), \"\\n\")\n",
    "cat(\"Среднее по всему датасету:\", mean(as.matrix(df)), \"\\n\")\n",
    "cat(\"Дисперсия по всему датасету:\", var(as.vector(as.matrix(df))), \"\\n\")\n",
    "cat(\"Среднеквадратическое отклонение по всему датасету:\", sd(as.vector(as.matrix(df))), \"\\n\")"
   ]
  },
  {
   "cell_type": "markdown",
   "id": "7a613887-e9e4-4b57-a26e-9471afd58b3c",
   "metadata": {},
   "source": [
    "7. Сумму, среднее, дисперсию, среднеквадратическое отклонение каждого столбца "
   ]
  },
  {
   "cell_type": "code",
   "execution_count": 80,
   "id": "93cd3cb0-fe4d-4983-817b-1c4bc32eafbc",
   "metadata": {},
   "outputs": [
    {
     "name": "stdout",
     "output_type": "stream",
     "text": [
      "Статистика по столбцам: \n",
      "Столбец: Murder \n",
      "Сумма: 389.4 \n",
      "Среднее: 7.788 \n",
      "Дисперсия: 18.97047 \n",
      "Среднеквадратическое отклонение: 4.35551 \n",
      "\n",
      "Столбец: Assault \n",
      "Сумма: 8538 \n",
      "Среднее: 170.76 \n",
      "Дисперсия: 6945.166 \n",
      "Среднеквадратическое отклонение: 83.33766 \n",
      "\n",
      "Столбец: UrbanPop \n",
      "Сумма: 3277 \n",
      "Среднее: 65.54 \n",
      "Дисперсия: 209.5188 \n",
      "Среднеквадратическое отклонение: 14.47476 \n",
      "\n",
      "Столбец: Rape \n",
      "Сумма: 1061.6 \n",
      "Среднее: 21.232 \n",
      "Дисперсия: 87.72916 \n",
      "Среднеквадратическое отклонение: 9.366385 \n",
      "\n"
     ]
    }
   ],
   "source": [
    "cat(\"Статистика по столбцам:\", \"\\n\")\n",
    "for (i in 1:ncol(df)) {\n",
    "  cat(\"Столбец:\", colnames(df)[i], \"\\n\")\n",
    "  cat(\"Сумма:\", sum(df[, i]), \"\\n\")\n",
    "  cat(\"Среднее:\", mean(df[, i]), \"\\n\")\n",
    "  cat(\"Дисперсия:\", var(df[, i]), \"\\n\")\n",
    "  cat(\"Среднеквадратическое отклонение:\", sd(df[, i]), \"\\n\")\n",
    "  cat(\"\\n\")\n",
    "}"
   ]
  },
  {
   "cell_type": "markdown",
   "id": "594fa6b9-c8b3-4478-9cbe-50e9f3487419",
   "metadata": {},
   "source": [
    "8. Сумму, среднее, дисперсию, среднеквадратическое  отклонение каждой строки"
   ]
  },
  {
   "cell_type": "code",
   "execution_count": 81,
   "id": "bcb48807-5c61-42dc-94bd-1498e397ee7c",
   "metadata": {},
   "outputs": [
    {
     "data": {
      "text/html": [
       "<style>\n",
       ".dl-inline {width: auto; margin:0; padding: 0}\n",
       ".dl-inline>dt, .dl-inline>dd {float: none; width: auto; display: inline-block}\n",
       ".dl-inline>dt::after {content: \":\\0020\"; padding-right: .5ex}\n",
       ".dl-inline>dt:not(:first-of-type) {padding-left: .5ex}\n",
       "</style><dl class=dl-inline><dt>Alabama</dt><dd>328.4</dd><dt>Alaska</dt><dd>365.5</dd><dt>Arizona</dt><dd>413.1</dd><dt>Arkansas</dt><dd>268.3</dd><dt>California</dt><dd>416.6</dd><dt>Colorado</dt><dd>328.6</dd><dt>Connecticut</dt><dd>201.4</dd><dt>Delaware</dt><dd>331.7</dd><dt>Florida</dt><dd>462.3</dd><dt>Georgia</dt><dd>314.2</dd><dt>Hawaii</dt><dd>154.5</dd><dt>Idaho</dt><dd>190.8</dd><dt>Illinois</dt><dd>366.4</dd><dt>Indiana</dt><dd>206.2</dd><dt>Iowa</dt><dd>126.5</dd><dt>Kansas</dt><dd>205</dd><dt>Kentucky</dt><dd>187</dd><dt>Louisiana</dt><dd>352.6</dd><dt>Maine</dt><dd>143.9</dd><dt>Maryland</dt><dd>406.1</dd><dt>Massachusetts</dt><dd>254.7</dd><dt>Michigan</dt><dd>376.2</dd><dt>Minnesota</dt><dd>155.6</dd><dt>Mississippi</dt><dd>336.2</dd><dt>Missouri</dt><dd>285.2</dd><dt>Montana</dt><dd>184.4</dd><dt>Nebraska</dt><dd>184.8</dd><dt>Nevada</dt><dd>391.2</dd><dt>New Hampshire</dt><dd>124.6</dd><dt>New Jersey</dt><dd>274.2</dd><dt>New Mexico</dt><dd>398.5</dd><dt>New York</dt><dd>377.2</dd><dt>North Carolina</dt><dd>411.1</dd><dt>North Dakota</dt><dd>97.1</dd><dt>Ohio</dt><dd>223.7</dd><dt>Oklahoma</dt><dd>245.6</dd><dt>Oregon</dt><dd>260.2</dd><dt>Pennsylvania</dt><dd>199.2</dd><dt>Rhode Island</dt><dd>272.7</dd><dt>South Carolina</dt><dd>363.9</dd><dt>South Dakota</dt><dd>147.6</dd><dt>Tennessee</dt><dd>287.1</dd><dt>Texas</dt><dd>319.2</dd><dt>Utah</dt><dd>226.1</dd><dt>Vermont</dt><dd>93.4</dd><dt>Virginia</dt><dd>248.2</dd><dt>Washington</dt><dd>248.2</dd><dt>West Virginia</dt><dd>135</dd><dt>Wisconsin</dt><dd>132.4</dd><dt>Wyoming</dt><dd>243.4</dd></dl>\n"
      ],
      "text/latex": [
       "\\begin{description*}\n",
       "\\item[Alabama] 328.4\n",
       "\\item[Alaska] 365.5\n",
       "\\item[Arizona] 413.1\n",
       "\\item[Arkansas] 268.3\n",
       "\\item[California] 416.6\n",
       "\\item[Colorado] 328.6\n",
       "\\item[Connecticut] 201.4\n",
       "\\item[Delaware] 331.7\n",
       "\\item[Florida] 462.3\n",
       "\\item[Georgia] 314.2\n",
       "\\item[Hawaii] 154.5\n",
       "\\item[Idaho] 190.8\n",
       "\\item[Illinois] 366.4\n",
       "\\item[Indiana] 206.2\n",
       "\\item[Iowa] 126.5\n",
       "\\item[Kansas] 205\n",
       "\\item[Kentucky] 187\n",
       "\\item[Louisiana] 352.6\n",
       "\\item[Maine] 143.9\n",
       "\\item[Maryland] 406.1\n",
       "\\item[Massachusetts] 254.7\n",
       "\\item[Michigan] 376.2\n",
       "\\item[Minnesota] 155.6\n",
       "\\item[Mississippi] 336.2\n",
       "\\item[Missouri] 285.2\n",
       "\\item[Montana] 184.4\n",
       "\\item[Nebraska] 184.8\n",
       "\\item[Nevada] 391.2\n",
       "\\item[New Hampshire] 124.6\n",
       "\\item[New Jersey] 274.2\n",
       "\\item[New Mexico] 398.5\n",
       "\\item[New York] 377.2\n",
       "\\item[North Carolina] 411.1\n",
       "\\item[North Dakota] 97.1\n",
       "\\item[Ohio] 223.7\n",
       "\\item[Oklahoma] 245.6\n",
       "\\item[Oregon] 260.2\n",
       "\\item[Pennsylvania] 199.2\n",
       "\\item[Rhode Island] 272.7\n",
       "\\item[South Carolina] 363.9\n",
       "\\item[South Dakota] 147.6\n",
       "\\item[Tennessee] 287.1\n",
       "\\item[Texas] 319.2\n",
       "\\item[Utah] 226.1\n",
       "\\item[Vermont] 93.4\n",
       "\\item[Virginia] 248.2\n",
       "\\item[Washington] 248.2\n",
       "\\item[West Virginia] 135\n",
       "\\item[Wisconsin] 132.4\n",
       "\\item[Wyoming] 243.4\n",
       "\\end{description*}\n"
      ],
      "text/markdown": [
       "Alabama\n",
       ":   328.4Alaska\n",
       ":   365.5Arizona\n",
       ":   413.1Arkansas\n",
       ":   268.3California\n",
       ":   416.6Colorado\n",
       ":   328.6Connecticut\n",
       ":   201.4Delaware\n",
       ":   331.7Florida\n",
       ":   462.3Georgia\n",
       ":   314.2Hawaii\n",
       ":   154.5Idaho\n",
       ":   190.8Illinois\n",
       ":   366.4Indiana\n",
       ":   206.2Iowa\n",
       ":   126.5Kansas\n",
       ":   205Kentucky\n",
       ":   187Louisiana\n",
       ":   352.6Maine\n",
       ":   143.9Maryland\n",
       ":   406.1Massachusetts\n",
       ":   254.7Michigan\n",
       ":   376.2Minnesota\n",
       ":   155.6Mississippi\n",
       ":   336.2Missouri\n",
       ":   285.2Montana\n",
       ":   184.4Nebraska\n",
       ":   184.8Nevada\n",
       ":   391.2New Hampshire\n",
       ":   124.6New Jersey\n",
       ":   274.2New Mexico\n",
       ":   398.5New York\n",
       ":   377.2North Carolina\n",
       ":   411.1North Dakota\n",
       ":   97.1Ohio\n",
       ":   223.7Oklahoma\n",
       ":   245.6Oregon\n",
       ":   260.2Pennsylvania\n",
       ":   199.2Rhode Island\n",
       ":   272.7South Carolina\n",
       ":   363.9South Dakota\n",
       ":   147.6Tennessee\n",
       ":   287.1Texas\n",
       ":   319.2Utah\n",
       ":   226.1Vermont\n",
       ":   93.4Virginia\n",
       ":   248.2Washington\n",
       ":   248.2West Virginia\n",
       ":   135Wisconsin\n",
       ":   132.4Wyoming\n",
       ":   243.4\n",
       "\n"
      ],
      "text/plain": [
       "       Alabama         Alaska        Arizona       Arkansas     California \n",
       "         328.4          365.5          413.1          268.3          416.6 \n",
       "      Colorado    Connecticut       Delaware        Florida        Georgia \n",
       "         328.6          201.4          331.7          462.3          314.2 \n",
       "        Hawaii          Idaho       Illinois        Indiana           Iowa \n",
       "         154.5          190.8          366.4          206.2          126.5 \n",
       "        Kansas       Kentucky      Louisiana          Maine       Maryland \n",
       "         205.0          187.0          352.6          143.9          406.1 \n",
       " Massachusetts       Michigan      Minnesota    Mississippi       Missouri \n",
       "         254.7          376.2          155.6          336.2          285.2 \n",
       "       Montana       Nebraska         Nevada  New Hampshire     New Jersey \n",
       "         184.4          184.8          391.2          124.6          274.2 \n",
       "    New Mexico       New York North Carolina   North Dakota           Ohio \n",
       "         398.5          377.2          411.1           97.1          223.7 \n",
       "      Oklahoma         Oregon   Pennsylvania   Rhode Island South Carolina \n",
       "         245.6          260.2          199.2          272.7          363.9 \n",
       "  South Dakota      Tennessee          Texas           Utah        Vermont \n",
       "         147.6          287.1          319.2          226.1           93.4 \n",
       "      Virginia     Washington  West Virginia      Wisconsin        Wyoming \n",
       "         248.2          248.2          135.0          132.4          243.4 "
      ]
     },
     "metadata": {},
     "output_type": "display_data"
    }
   ],
   "source": [
    "rowSums(df)"
   ]
  },
  {
   "cell_type": "code",
   "execution_count": 82,
   "id": "685e1184-56b1-4778-8952-ae629f494408",
   "metadata": {},
   "outputs": [
    {
     "data": {
      "text/html": [
       "<style>\n",
       ".dl-inline {width: auto; margin:0; padding: 0}\n",
       ".dl-inline>dt, .dl-inline>dd {float: none; width: auto; display: inline-block}\n",
       ".dl-inline>dt::after {content: \":\\0020\"; padding-right: .5ex}\n",
       ".dl-inline>dt:not(:first-of-type) {padding-left: .5ex}\n",
       "</style><dl class=dl-inline><dt>Alabama</dt><dd>82.1</dd><dt>Alaska</dt><dd>91.375</dd><dt>Arizona</dt><dd>103.275</dd><dt>Arkansas</dt><dd>67.075</dd><dt>California</dt><dd>104.15</dd><dt>Colorado</dt><dd>82.15</dd><dt>Connecticut</dt><dd>50.35</dd><dt>Delaware</dt><dd>82.925</dd><dt>Florida</dt><dd>115.575</dd><dt>Georgia</dt><dd>78.55</dd><dt>Hawaii</dt><dd>38.625</dd><dt>Idaho</dt><dd>47.7</dd><dt>Illinois</dt><dd>91.6</dd><dt>Indiana</dt><dd>51.55</dd><dt>Iowa</dt><dd>31.625</dd><dt>Kansas</dt><dd>51.25</dd><dt>Kentucky</dt><dd>46.75</dd><dt>Louisiana</dt><dd>88.15</dd><dt>Maine</dt><dd>35.975</dd><dt>Maryland</dt><dd>101.525</dd><dt>Massachusetts</dt><dd>63.675</dd><dt>Michigan</dt><dd>94.05</dd><dt>Minnesota</dt><dd>38.9</dd><dt>Mississippi</dt><dd>84.05</dd><dt>Missouri</dt><dd>71.3</dd><dt>Montana</dt><dd>46.1</dd><dt>Nebraska</dt><dd>46.2</dd><dt>Nevada</dt><dd>97.8</dd><dt>New Hampshire</dt><dd>31.15</dd><dt>New Jersey</dt><dd>68.55</dd><dt>New Mexico</dt><dd>99.625</dd><dt>New York</dt><dd>94.3</dd><dt>North Carolina</dt><dd>102.775</dd><dt>North Dakota</dt><dd>24.275</dd><dt>Ohio</dt><dd>55.925</dd><dt>Oklahoma</dt><dd>61.4</dd><dt>Oregon</dt><dd>65.05</dd><dt>Pennsylvania</dt><dd>49.8</dd><dt>Rhode Island</dt><dd>68.175</dd><dt>South Carolina</dt><dd>90.975</dd><dt>South Dakota</dt><dd>36.9</dd><dt>Tennessee</dt><dd>71.775</dd><dt>Texas</dt><dd>79.8</dd><dt>Utah</dt><dd>56.525</dd><dt>Vermont</dt><dd>23.35</dd><dt>Virginia</dt><dd>62.05</dd><dt>Washington</dt><dd>62.05</dd><dt>West Virginia</dt><dd>33.75</dd><dt>Wisconsin</dt><dd>33.1</dd><dt>Wyoming</dt><dd>60.85</dd></dl>\n"
      ],
      "text/latex": [
       "\\begin{description*}\n",
       "\\item[Alabama] 82.1\n",
       "\\item[Alaska] 91.375\n",
       "\\item[Arizona] 103.275\n",
       "\\item[Arkansas] 67.075\n",
       "\\item[California] 104.15\n",
       "\\item[Colorado] 82.15\n",
       "\\item[Connecticut] 50.35\n",
       "\\item[Delaware] 82.925\n",
       "\\item[Florida] 115.575\n",
       "\\item[Georgia] 78.55\n",
       "\\item[Hawaii] 38.625\n",
       "\\item[Idaho] 47.7\n",
       "\\item[Illinois] 91.6\n",
       "\\item[Indiana] 51.55\n",
       "\\item[Iowa] 31.625\n",
       "\\item[Kansas] 51.25\n",
       "\\item[Kentucky] 46.75\n",
       "\\item[Louisiana] 88.15\n",
       "\\item[Maine] 35.975\n",
       "\\item[Maryland] 101.525\n",
       "\\item[Massachusetts] 63.675\n",
       "\\item[Michigan] 94.05\n",
       "\\item[Minnesota] 38.9\n",
       "\\item[Mississippi] 84.05\n",
       "\\item[Missouri] 71.3\n",
       "\\item[Montana] 46.1\n",
       "\\item[Nebraska] 46.2\n",
       "\\item[Nevada] 97.8\n",
       "\\item[New Hampshire] 31.15\n",
       "\\item[New Jersey] 68.55\n",
       "\\item[New Mexico] 99.625\n",
       "\\item[New York] 94.3\n",
       "\\item[North Carolina] 102.775\n",
       "\\item[North Dakota] 24.275\n",
       "\\item[Ohio] 55.925\n",
       "\\item[Oklahoma] 61.4\n",
       "\\item[Oregon] 65.05\n",
       "\\item[Pennsylvania] 49.8\n",
       "\\item[Rhode Island] 68.175\n",
       "\\item[South Carolina] 90.975\n",
       "\\item[South Dakota] 36.9\n",
       "\\item[Tennessee] 71.775\n",
       "\\item[Texas] 79.8\n",
       "\\item[Utah] 56.525\n",
       "\\item[Vermont] 23.35\n",
       "\\item[Virginia] 62.05\n",
       "\\item[Washington] 62.05\n",
       "\\item[West Virginia] 33.75\n",
       "\\item[Wisconsin] 33.1\n",
       "\\item[Wyoming] 60.85\n",
       "\\end{description*}\n"
      ],
      "text/markdown": [
       "Alabama\n",
       ":   82.1Alaska\n",
       ":   91.375Arizona\n",
       ":   103.275Arkansas\n",
       ":   67.075California\n",
       ":   104.15Colorado\n",
       ":   82.15Connecticut\n",
       ":   50.35Delaware\n",
       ":   82.925Florida\n",
       ":   115.575Georgia\n",
       ":   78.55Hawaii\n",
       ":   38.625Idaho\n",
       ":   47.7Illinois\n",
       ":   91.6Indiana\n",
       ":   51.55Iowa\n",
       ":   31.625Kansas\n",
       ":   51.25Kentucky\n",
       ":   46.75Louisiana\n",
       ":   88.15Maine\n",
       ":   35.975Maryland\n",
       ":   101.525Massachusetts\n",
       ":   63.675Michigan\n",
       ":   94.05Minnesota\n",
       ":   38.9Mississippi\n",
       ":   84.05Missouri\n",
       ":   71.3Montana\n",
       ":   46.1Nebraska\n",
       ":   46.2Nevada\n",
       ":   97.8New Hampshire\n",
       ":   31.15New Jersey\n",
       ":   68.55New Mexico\n",
       ":   99.625New York\n",
       ":   94.3North Carolina\n",
       ":   102.775North Dakota\n",
       ":   24.275Ohio\n",
       ":   55.925Oklahoma\n",
       ":   61.4Oregon\n",
       ":   65.05Pennsylvania\n",
       ":   49.8Rhode Island\n",
       ":   68.175South Carolina\n",
       ":   90.975South Dakota\n",
       ":   36.9Tennessee\n",
       ":   71.775Texas\n",
       ":   79.8Utah\n",
       ":   56.525Vermont\n",
       ":   23.35Virginia\n",
       ":   62.05Washington\n",
       ":   62.05West Virginia\n",
       ":   33.75Wisconsin\n",
       ":   33.1Wyoming\n",
       ":   60.85\n",
       "\n"
      ],
      "text/plain": [
       "       Alabama         Alaska        Arizona       Arkansas     California \n",
       "        82.100         91.375        103.275         67.075        104.150 \n",
       "      Colorado    Connecticut       Delaware        Florida        Georgia \n",
       "        82.150         50.350         82.925        115.575         78.550 \n",
       "        Hawaii          Idaho       Illinois        Indiana           Iowa \n",
       "        38.625         47.700         91.600         51.550         31.625 \n",
       "        Kansas       Kentucky      Louisiana          Maine       Maryland \n",
       "        51.250         46.750         88.150         35.975        101.525 \n",
       " Massachusetts       Michigan      Minnesota    Mississippi       Missouri \n",
       "        63.675         94.050         38.900         84.050         71.300 \n",
       "       Montana       Nebraska         Nevada  New Hampshire     New Jersey \n",
       "        46.100         46.200         97.800         31.150         68.550 \n",
       "    New Mexico       New York North Carolina   North Dakota           Ohio \n",
       "        99.625         94.300        102.775         24.275         55.925 \n",
       "      Oklahoma         Oregon   Pennsylvania   Rhode Island South Carolina \n",
       "        61.400         65.050         49.800         68.175         90.975 \n",
       "  South Dakota      Tennessee          Texas           Utah        Vermont \n",
       "        36.900         71.775         79.800         56.525         23.350 \n",
       "      Virginia     Washington  West Virginia      Wisconsin        Wyoming \n",
       "        62.050         62.050         33.750         33.100         60.850 "
      ]
     },
     "metadata": {},
     "output_type": "display_data"
    }
   ],
   "source": [
    "rowMeans(df)"
   ]
  },
  {
   "cell_type": "code",
   "execution_count": 83,
   "id": "36e06f81-de28-451b-b14a-1931d2122757",
   "metadata": {},
   "outputs": [],
   "source": [
    "rowVars <- function(x) {\n",
    "  rowSums((x - rowMeans(x))^2)/(dim(x)[2] - 1)\n",
    "}"
   ]
  },
  {
   "cell_type": "code",
   "execution_count": 84,
   "id": "cf9a180a-64f4-4797-a1e4-b7b24fdfed21",
   "metadata": {},
   "outputs": [
    {
     "data": {
      "text/html": [
       "<style>\n",
       ".dl-inline {width: auto; margin:0; padding: 0}\n",
       ".dl-inline>dt, .dl-inline>dd {float: none; width: auto; display: inline-block}\n",
       ".dl-inline>dt::after {content: \":\\0020\"; padding-right: .5ex}\n",
       ".dl-inline>dt:not(:first-of-type) {padding-left: .5ex}\n",
       "</style><dl class=dl-inline><dt>Alabama</dt><dd>10907.3466666667</dd><dt>Alaska</dt><dd>13385.2291666667</dd><dt>Arizona</dt><dd>17066.5691666667</dd><dt>Arkansas</dt><dd>7020.48916666667</dd><dt>California</dt><dd>14265.8233333333</dd><dt>Colorado</dt><dd>7421.87</dd><dt>Connecticut</dt><dd>2674.20333333333</dd><dt>Delaware</dt><dd>11535.4091666667</dd><dt>Florida</dt><dd>22149.8158333333</dd><dt>Georgia</dt><dd>8136.33</dd><dt>Hawaii</dt><dd>1157.85583333333</dd><dt>Idaho</dt><dd>2807.74666666667</dd><dt>Illinois</dt><dd>12003.9733333333</dd><dt>Indiana</dt><dd>2285.74333333333</dd><dt>Iowa</dt><dd>838.989166666667</dd><dt>Kansas</dt><dd>2478.25</dd><dt>Kentucky</dt><dd>2067.51</dd><dt>Louisiana</dt><dd>12001.77</dd><dt>Maine</dt><dd>1459.4825</dd><dt>Maryland</dt><dd>18053.4091666667</dd><dt>Massachusetts</dt><dd>4497.67583333333</dd><dt>Michigan</dt><dd>12165.9366666667</dd><dt>Minnesota</dt><dd>1238.82</dd><dt>Mississippi</dt><dd>13770.3366666667</dd><dt>Missouri</dt><dd>5708.49333333333</dd><dt>Montana</dt><dd>2164.70666666667</dd><dt>Nebraska</dt><dd>2000.32666666667</dd><dt>Nevada</dt><dd>11356.8266666667</dd><dt>New Hampshire</dt><dd>866.123333333333</dd><dt>New Jersey</dt><dd>4937.93</dd><dt>New Mexico</dt><dd>15861.6025</dd><dt>New York</dt><dd>12382.1533333333</dd><dt>North Carolina</dt><dd>24590.4691666667</dd><dt>North Dakota</dt><dd>552.609166666667</dd><dt>Ohio</dt><dd>2675.27583333333</dd><dt>Oklahoma</dt><dd>4262.90666666667</dd><dt>Oregon</dt><dd>4575.49666666667</dd><dt>Pennsylvania</dt><dd>2253.84666666667</dd><dt>Rhode Island</dt><dd>6444.70916666667</dd><dt>South Carolina</dt><dd>15917.6025</dd><dt>South Dakota</dt><dd>1384.28</dd><dt>Tennessee</dt><dd>6372.0825</dd><dt>Texas</dt><dd>7380.12666666667</dd><dt>Utah</dt><dd>2851.44916666667</dd><dt>Vermont</dt><dd>425.796666666667</dd><dt>Virginia</dt><dd>4468.31</dd><dt>Washington</dt><dd>3885.21</dd><dt>West Virginia</dt><dd>1214.91</dd><dt>Wisconsin</dt><dd>968.653333333333</dd><dt>Wyoming</dt><dd>4999.90333333333</dd></dl>\n"
      ],
      "text/latex": [
       "\\begin{description*}\n",
       "\\item[Alabama] 10907.3466666667\n",
       "\\item[Alaska] 13385.2291666667\n",
       "\\item[Arizona] 17066.5691666667\n",
       "\\item[Arkansas] 7020.48916666667\n",
       "\\item[California] 14265.8233333333\n",
       "\\item[Colorado] 7421.87\n",
       "\\item[Connecticut] 2674.20333333333\n",
       "\\item[Delaware] 11535.4091666667\n",
       "\\item[Florida] 22149.8158333333\n",
       "\\item[Georgia] 8136.33\n",
       "\\item[Hawaii] 1157.85583333333\n",
       "\\item[Idaho] 2807.74666666667\n",
       "\\item[Illinois] 12003.9733333333\n",
       "\\item[Indiana] 2285.74333333333\n",
       "\\item[Iowa] 838.989166666667\n",
       "\\item[Kansas] 2478.25\n",
       "\\item[Kentucky] 2067.51\n",
       "\\item[Louisiana] 12001.77\n",
       "\\item[Maine] 1459.4825\n",
       "\\item[Maryland] 18053.4091666667\n",
       "\\item[Massachusetts] 4497.67583333333\n",
       "\\item[Michigan] 12165.9366666667\n",
       "\\item[Minnesota] 1238.82\n",
       "\\item[Mississippi] 13770.3366666667\n",
       "\\item[Missouri] 5708.49333333333\n",
       "\\item[Montana] 2164.70666666667\n",
       "\\item[Nebraska] 2000.32666666667\n",
       "\\item[Nevada] 11356.8266666667\n",
       "\\item[New Hampshire] 866.123333333333\n",
       "\\item[New Jersey] 4937.93\n",
       "\\item[New Mexico] 15861.6025\n",
       "\\item[New York] 12382.1533333333\n",
       "\\item[North Carolina] 24590.4691666667\n",
       "\\item[North Dakota] 552.609166666667\n",
       "\\item[Ohio] 2675.27583333333\n",
       "\\item[Oklahoma] 4262.90666666667\n",
       "\\item[Oregon] 4575.49666666667\n",
       "\\item[Pennsylvania] 2253.84666666667\n",
       "\\item[Rhode Island] 6444.70916666667\n",
       "\\item[South Carolina] 15917.6025\n",
       "\\item[South Dakota] 1384.28\n",
       "\\item[Tennessee] 6372.0825\n",
       "\\item[Texas] 7380.12666666667\n",
       "\\item[Utah] 2851.44916666667\n",
       "\\item[Vermont] 425.796666666667\n",
       "\\item[Virginia] 4468.31\n",
       "\\item[Washington] 3885.21\n",
       "\\item[West Virginia] 1214.91\n",
       "\\item[Wisconsin] 968.653333333333\n",
       "\\item[Wyoming] 4999.90333333333\n",
       "\\end{description*}\n"
      ],
      "text/markdown": [
       "Alabama\n",
       ":   10907.3466666667Alaska\n",
       ":   13385.2291666667Arizona\n",
       ":   17066.5691666667Arkansas\n",
       ":   7020.48916666667California\n",
       ":   14265.8233333333Colorado\n",
       ":   7421.87Connecticut\n",
       ":   2674.20333333333Delaware\n",
       ":   11535.4091666667Florida\n",
       ":   22149.8158333333Georgia\n",
       ":   8136.33Hawaii\n",
       ":   1157.85583333333Idaho\n",
       ":   2807.74666666667Illinois\n",
       ":   12003.9733333333Indiana\n",
       ":   2285.74333333333Iowa\n",
       ":   838.989166666667Kansas\n",
       ":   2478.25Kentucky\n",
       ":   2067.51Louisiana\n",
       ":   12001.77Maine\n",
       ":   1459.4825Maryland\n",
       ":   18053.4091666667Massachusetts\n",
       ":   4497.67583333333Michigan\n",
       ":   12165.9366666667Minnesota\n",
       ":   1238.82Mississippi\n",
       ":   13770.3366666667Missouri\n",
       ":   5708.49333333333Montana\n",
       ":   2164.70666666667Nebraska\n",
       ":   2000.32666666667Nevada\n",
       ":   11356.8266666667New Hampshire\n",
       ":   866.123333333333New Jersey\n",
       ":   4937.93New Mexico\n",
       ":   15861.6025New York\n",
       ":   12382.1533333333North Carolina\n",
       ":   24590.4691666667North Dakota\n",
       ":   552.609166666667Ohio\n",
       ":   2675.27583333333Oklahoma\n",
       ":   4262.90666666667Oregon\n",
       ":   4575.49666666667Pennsylvania\n",
       ":   2253.84666666667Rhode Island\n",
       ":   6444.70916666667South Carolina\n",
       ":   15917.6025South Dakota\n",
       ":   1384.28Tennessee\n",
       ":   6372.0825Texas\n",
       ":   7380.12666666667Utah\n",
       ":   2851.44916666667Vermont\n",
       ":   425.796666666667Virginia\n",
       ":   4468.31Washington\n",
       ":   3885.21West Virginia\n",
       ":   1214.91Wisconsin\n",
       ":   968.653333333333Wyoming\n",
       ":   4999.90333333333\n",
       "\n"
      ],
      "text/plain": [
       "       Alabama         Alaska        Arizona       Arkansas     California \n",
       "    10907.3467     13385.2292     17066.5692      7020.4892     14265.8233 \n",
       "      Colorado    Connecticut       Delaware        Florida        Georgia \n",
       "     7421.8700      2674.2033     11535.4092     22149.8158      8136.3300 \n",
       "        Hawaii          Idaho       Illinois        Indiana           Iowa \n",
       "     1157.8558      2807.7467     12003.9733      2285.7433       838.9892 \n",
       "        Kansas       Kentucky      Louisiana          Maine       Maryland \n",
       "     2478.2500      2067.5100     12001.7700      1459.4825     18053.4092 \n",
       " Massachusetts       Michigan      Minnesota    Mississippi       Missouri \n",
       "     4497.6758     12165.9367      1238.8200     13770.3367      5708.4933 \n",
       "       Montana       Nebraska         Nevada  New Hampshire     New Jersey \n",
       "     2164.7067      2000.3267     11356.8267       866.1233      4937.9300 \n",
       "    New Mexico       New York North Carolina   North Dakota           Ohio \n",
       "    15861.6025     12382.1533     24590.4692       552.6092      2675.2758 \n",
       "      Oklahoma         Oregon   Pennsylvania   Rhode Island South Carolina \n",
       "     4262.9067      4575.4967      2253.8467      6444.7092     15917.6025 \n",
       "  South Dakota      Tennessee          Texas           Utah        Vermont \n",
       "     1384.2800      6372.0825      7380.1267      2851.4492       425.7967 \n",
       "      Virginia     Washington  West Virginia      Wisconsin        Wyoming \n",
       "     4468.3100      3885.2100      1214.9100       968.6533      4999.9033 "
      ]
     },
     "metadata": {},
     "output_type": "display_data"
    }
   ],
   "source": [
    "rowVars(df)"
   ]
  },
  {
   "cell_type": "code",
   "execution_count": 85,
   "id": "2046988f-bd2f-46bc-9b5a-226f17158899",
   "metadata": {},
   "outputs": [],
   "source": [
    "rowSds <- function(x) {\n",
    "  sqrt(rowSums((x - rowMeans(x))^2)/(dim(x)[2] - 1))\n",
    "}"
   ]
  },
  {
   "cell_type": "markdown",
   "id": "1d80b75c-25dd-4a92-bc47-c9e73d4398de",
   "metadata": {},
   "source": [
    "9. Вывести с 10 по 14 элементы для каждого столбца (обращение по индексам строк, for)"
   ]
  },
  {
   "cell_type": "code",
   "execution_count": 86,
   "id": "ba577e9f-6a8d-4642-8589-8f9f0ed48946",
   "metadata": {},
   "outputs": [
    {
     "data": {
      "text/html": [
       "<table class=\"dataframe\">\n",
       "<caption>A data.frame: 5 × 4</caption>\n",
       "<thead>\n",
       "\t<tr><th></th><th scope=col>Murder</th><th scope=col>Assault</th><th scope=col>UrbanPop</th><th scope=col>Rape</th></tr>\n",
       "\t<tr><th></th><th scope=col>&lt;dbl&gt;</th><th scope=col>&lt;int&gt;</th><th scope=col>&lt;int&gt;</th><th scope=col>&lt;dbl&gt;</th></tr>\n",
       "</thead>\n",
       "<tbody>\n",
       "\t<tr><th scope=row>Georgia</th><td>17.4</td><td>211</td><td>60</td><td>25.8</td></tr>\n",
       "\t<tr><th scope=row>Hawaii</th><td> 5.3</td><td> 46</td><td>83</td><td>20.2</td></tr>\n",
       "\t<tr><th scope=row>Idaho</th><td> 2.6</td><td>120</td><td>54</td><td>14.2</td></tr>\n",
       "\t<tr><th scope=row>Illinois</th><td>10.4</td><td>249</td><td>83</td><td>24.0</td></tr>\n",
       "\t<tr><th scope=row>Indiana</th><td> 7.2</td><td>113</td><td>65</td><td>21.0</td></tr>\n",
       "</tbody>\n",
       "</table>\n"
      ],
      "text/latex": [
       "A data.frame: 5 × 4\n",
       "\\begin{tabular}{r|llll}\n",
       "  & Murder & Assault & UrbanPop & Rape\\\\\n",
       "  & <dbl> & <int> & <int> & <dbl>\\\\\n",
       "\\hline\n",
       "\tGeorgia & 17.4 & 211 & 60 & 25.8\\\\\n",
       "\tHawaii &  5.3 &  46 & 83 & 20.2\\\\\n",
       "\tIdaho &  2.6 & 120 & 54 & 14.2\\\\\n",
       "\tIllinois & 10.4 & 249 & 83 & 24.0\\\\\n",
       "\tIndiana &  7.2 & 113 & 65 & 21.0\\\\\n",
       "\\end{tabular}\n"
      ],
      "text/markdown": [
       "\n",
       "A data.frame: 5 × 4\n",
       "\n",
       "| <!--/--> | Murder &lt;dbl&gt; | Assault &lt;int&gt; | UrbanPop &lt;int&gt; | Rape &lt;dbl&gt; |\n",
       "|---|---|---|---|---|\n",
       "| Georgia | 17.4 | 211 | 60 | 25.8 |\n",
       "| Hawaii |  5.3 |  46 | 83 | 20.2 |\n",
       "| Idaho |  2.6 | 120 | 54 | 14.2 |\n",
       "| Illinois | 10.4 | 249 | 83 | 24.0 |\n",
       "| Indiana |  7.2 | 113 | 65 | 21.0 |\n",
       "\n"
      ],
      "text/plain": [
       "         Murder Assault UrbanPop Rape\n",
       "Georgia  17.4   211     60       25.8\n",
       "Hawaii    5.3    46     83       20.2\n",
       "Idaho     2.6   120     54       14.2\n",
       "Illinois 10.4   249     83       24.0\n",
       "Indiana   7.2   113     65       21.0"
      ]
     },
     "metadata": {},
     "output_type": "display_data"
    }
   ],
   "source": [
    "df[10:14, ]"
   ]
  },
  {
   "cell_type": "markdown",
   "id": "894ef2df-61a8-4e9f-8a0c-00bc2f052d59",
   "metadata": {},
   "source": [
    "10. Сколько в датасете элементов меньше 10 (sum, условие)"
   ]
  },
  {
   "cell_type": "code",
   "execution_count": 88,
   "id": "8b8c6530-ef55-4ff2-bac7-2d59fe397581",
   "metadata": {},
   "outputs": [
    {
     "data": {
      "text/html": [
       "39"
      ],
      "text/latex": [
       "39"
      ],
      "text/markdown": [
       "39"
      ],
      "text/plain": [
       "[1] 39"
      ]
     },
     "metadata": {},
     "output_type": "display_data"
    }
   ],
   "source": [
    "sum(df < 10)"
   ]
  },
  {
   "cell_type": "markdown",
   "id": "e522a303-b446-49af-a454-f7574e8be3fe",
   "metadata": {},
   "source": [
    "11. Сколько в каждом столбце элементов меньше 10 (sum, условие)"
   ]
  },
  {
   "cell_type": "code",
   "execution_count": 89,
   "id": "d1444748-103e-4fd6-9b7e-0058349743c1",
   "metadata": {},
   "outputs": [
    {
     "data": {
      "text/html": [
       "<style>\n",
       ".dl-inline {width: auto; margin:0; padding: 0}\n",
       ".dl-inline>dt, .dl-inline>dd {float: none; width: auto; display: inline-block}\n",
       ".dl-inline>dt::after {content: \":\\0020\"; padding-right: .5ex}\n",
       ".dl-inline>dt:not(:first-of-type) {padding-left: .5ex}\n",
       "</style><dl class=dl-inline><dt>Murder</dt><dd>34</dd><dt>Assault</dt><dd>0</dd><dt>UrbanPop</dt><dd>0</dd><dt>Rape</dt><dd>5</dd></dl>\n"
      ],
      "text/latex": [
       "\\begin{description*}\n",
       "\\item[Murder] 34\n",
       "\\item[Assault] 0\n",
       "\\item[UrbanPop] 0\n",
       "\\item[Rape] 5\n",
       "\\end{description*}\n"
      ],
      "text/markdown": [
       "Murder\n",
       ":   34Assault\n",
       ":   0UrbanPop\n",
       ":   0Rape\n",
       ":   5\n",
       "\n"
      ],
      "text/plain": [
       "  Murder  Assault UrbanPop     Rape \n",
       "      34        0        0        5 "
      ]
     },
     "metadata": {},
     "output_type": "display_data"
    }
   ],
   "source": [
    "apply(df < 10, 2, sum)"
   ]
  },
  {
   "cell_type": "markdown",
   "id": "cd030cbf-cbd3-4d29-ad4c-14adb179fbae",
   "metadata": {},
   "source": [
    "12. Какие штаты содержат в названии “Miss” (which, rownames, grepl)"
   ]
  },
  {
   "cell_type": "code",
   "execution_count": 90,
   "id": "6dbbb885-dcae-4548-97dc-28b7a947c93f",
   "metadata": {},
   "outputs": [
    {
     "data": {
      "text/html": [
       "<style>\n",
       ".list-inline {list-style: none; margin:0; padding: 0}\n",
       ".list-inline>li {display: inline-block}\n",
       ".list-inline>li:not(:last-child)::after {content: \"\\00b7\"; padding: 0 .5ex}\n",
       "</style>\n",
       "<ol class=list-inline><li>'Mississippi'</li><li>'Missouri'</li></ol>\n"
      ],
      "text/latex": [
       "\\begin{enumerate*}\n",
       "\\item 'Mississippi'\n",
       "\\item 'Missouri'\n",
       "\\end{enumerate*}\n"
      ],
      "text/markdown": [
       "1. 'Mississippi'\n",
       "2. 'Missouri'\n",
       "\n",
       "\n"
      ],
      "text/plain": [
       "[1] \"Mississippi\" \"Missouri\"   "
      ]
     },
     "metadata": {},
     "output_type": "display_data"
    }
   ],
   "source": [
    "rownames(df)[grepl(\"Miss\", rownames(df))]"
   ]
  },
  {
   "cell_type": "markdown",
   "id": "d8ebb147-6a1a-4038-b50b-346424a35916",
   "metadata": {},
   "source": [
    "13. Вывести на консоль криминальную статистику для штатов, содержащих в названии “New”"
   ]
  },
  {
   "cell_type": "code",
   "execution_count": 91,
   "id": "4abc233b-5299-444c-b0b9-10fda09fd2c1",
   "metadata": {},
   "outputs": [
    {
     "data": {
      "text/html": [
       "<table class=\"dataframe\">\n",
       "<caption>A data.frame: 4 × 4</caption>\n",
       "<thead>\n",
       "\t<tr><th></th><th scope=col>Murder</th><th scope=col>Assault</th><th scope=col>UrbanPop</th><th scope=col>Rape</th></tr>\n",
       "\t<tr><th></th><th scope=col>&lt;dbl&gt;</th><th scope=col>&lt;int&gt;</th><th scope=col>&lt;int&gt;</th><th scope=col>&lt;dbl&gt;</th></tr>\n",
       "</thead>\n",
       "<tbody>\n",
       "\t<tr><th scope=row>New Hampshire</th><td> 2.1</td><td> 57</td><td>56</td><td> 9.5</td></tr>\n",
       "\t<tr><th scope=row>New Jersey</th><td> 7.4</td><td>159</td><td>89</td><td>18.8</td></tr>\n",
       "\t<tr><th scope=row>New Mexico</th><td>11.4</td><td>285</td><td>70</td><td>32.1</td></tr>\n",
       "\t<tr><th scope=row>New York</th><td>11.1</td><td>254</td><td>86</td><td>26.1</td></tr>\n",
       "</tbody>\n",
       "</table>\n"
      ],
      "text/latex": [
       "A data.frame: 4 × 4\n",
       "\\begin{tabular}{r|llll}\n",
       "  & Murder & Assault & UrbanPop & Rape\\\\\n",
       "  & <dbl> & <int> & <int> & <dbl>\\\\\n",
       "\\hline\n",
       "\tNew Hampshire &  2.1 &  57 & 56 &  9.5\\\\\n",
       "\tNew Jersey &  7.4 & 159 & 89 & 18.8\\\\\n",
       "\tNew Mexico & 11.4 & 285 & 70 & 32.1\\\\\n",
       "\tNew York & 11.1 & 254 & 86 & 26.1\\\\\n",
       "\\end{tabular}\n"
      ],
      "text/markdown": [
       "\n",
       "A data.frame: 4 × 4\n",
       "\n",
       "| <!--/--> | Murder &lt;dbl&gt; | Assault &lt;int&gt; | UrbanPop &lt;int&gt; | Rape &lt;dbl&gt; |\n",
       "|---|---|---|---|---|\n",
       "| New Hampshire |  2.1 |  57 | 56 |  9.5 |\n",
       "| New Jersey |  7.4 | 159 | 89 | 18.8 |\n",
       "| New Mexico | 11.4 | 285 | 70 | 32.1 |\n",
       "| New York | 11.1 | 254 | 86 | 26.1 |\n",
       "\n"
      ],
      "text/plain": [
       "              Murder Assault UrbanPop Rape\n",
       "New Hampshire  2.1    57     56        9.5\n",
       "New Jersey     7.4   159     89       18.8\n",
       "New Mexico    11.4   285     70       32.1\n",
       "New York      11.1   254     86       26.1"
      ]
     },
     "metadata": {},
     "output_type": "display_data"
    }
   ],
   "source": [
    "df[grep(\"New\", rownames(df)), ]"
   ]
  },
  {
   "cell_type": "markdown",
   "id": "5afec1ea-8800-46a2-91ed-d52d911bb80c",
   "metadata": {},
   "source": [
    "14. Записать файл .csv, содержащий 1-20 строки и 1 и 3 столбцы "
   ]
  },
  {
   "cell_type": "code",
   "execution_count": 92,
   "id": "5b540d61-8d9f-4ef0-8ea3-5988238c0860",
   "metadata": {},
   "outputs": [],
   "source": [
    "write.csv(df[1:20, c(1,3)], file=\"data_subset.csv\")"
   ]
  },
  {
   "cell_type": "markdown",
   "id": "545c110f-fc74-4579-a5d8-ef0706c1fcb6",
   "metadata": {},
   "source": [
    "15. Записать файл .xlsx, содержащий листы M и N со статистикой для штатов, начинающихся на букву M и N "
   ]
  },
  {
   "cell_type": "code",
   "execution_count": 96,
   "id": "8b28af3c-c29e-4719-a9c0-9036ff38f5a3",
   "metadata": {},
   "outputs": [
    {
     "name": "stderr",
     "output_type": "stream",
     "text": [
      "Warning message:\n",
      "\"пакет 'xlsx' был собран под R версии 4.3.2\"\n"
     ]
    }
   ],
   "source": [
    "library(xlsx)\n",
    "write.xlsx(df[grep(\"^M\", rownames(df)), ], file = \"data_stat.xlsx\",sheetName=\"M\", append = FALSE)\n",
    "write.xlsx(df[grep(\"^N\", rownames(df)), ], file = \"data_stat.xlsx\",sheetName=\"N\", append = TRUE)"
   ]
  },
  {
   "cell_type": "markdown",
   "id": "178b743b-f3fa-4e74-a89f-5601dddbbfae",
   "metadata": {},
   "source": [
    "16. Прочитать записанные файлы"
   ]
  },
  {
   "cell_type": "code",
   "execution_count": 97,
   "id": "89c6dee5-8798-4d14-a93f-912c5ce1569b",
   "metadata": {},
   "outputs": [
    {
     "data": {
      "text/html": [
       "<table class=\"dataframe\">\n",
       "<caption>A data.frame: 20 × 3</caption>\n",
       "<thead>\n",
       "\t<tr><th scope=col>X</th><th scope=col>Murder</th><th scope=col>UrbanPop</th></tr>\n",
       "\t<tr><th scope=col>&lt;chr&gt;</th><th scope=col>&lt;dbl&gt;</th><th scope=col>&lt;int&gt;</th></tr>\n",
       "</thead>\n",
       "<tbody>\n",
       "\t<tr><td>Alabama    </td><td>13.2</td><td>58</td></tr>\n",
       "\t<tr><td>Alaska     </td><td>10.0</td><td>48</td></tr>\n",
       "\t<tr><td>Arizona    </td><td> 8.1</td><td>80</td></tr>\n",
       "\t<tr><td>Arkansas   </td><td> 8.8</td><td>50</td></tr>\n",
       "\t<tr><td>California </td><td> 9.0</td><td>91</td></tr>\n",
       "\t<tr><td>Colorado   </td><td> 7.9</td><td>78</td></tr>\n",
       "\t<tr><td>Connecticut</td><td> 3.3</td><td>77</td></tr>\n",
       "\t<tr><td>Delaware   </td><td> 5.9</td><td>72</td></tr>\n",
       "\t<tr><td>Florida    </td><td>15.4</td><td>80</td></tr>\n",
       "\t<tr><td>Georgia    </td><td>17.4</td><td>60</td></tr>\n",
       "\t<tr><td>Hawaii     </td><td> 5.3</td><td>83</td></tr>\n",
       "\t<tr><td>Idaho      </td><td> 2.6</td><td>54</td></tr>\n",
       "\t<tr><td>Illinois   </td><td>10.4</td><td>83</td></tr>\n",
       "\t<tr><td>Indiana    </td><td> 7.2</td><td>65</td></tr>\n",
       "\t<tr><td>Iowa       </td><td> 2.2</td><td>57</td></tr>\n",
       "\t<tr><td>Kansas     </td><td> 6.0</td><td>66</td></tr>\n",
       "\t<tr><td>Kentucky   </td><td> 9.7</td><td>52</td></tr>\n",
       "\t<tr><td>Louisiana  </td><td>15.4</td><td>66</td></tr>\n",
       "\t<tr><td>Maine      </td><td> 2.1</td><td>51</td></tr>\n",
       "\t<tr><td>Maryland   </td><td>11.3</td><td>67</td></tr>\n",
       "</tbody>\n",
       "</table>\n"
      ],
      "text/latex": [
       "A data.frame: 20 × 3\n",
       "\\begin{tabular}{lll}\n",
       " X & Murder & UrbanPop\\\\\n",
       " <chr> & <dbl> & <int>\\\\\n",
       "\\hline\n",
       "\t Alabama     & 13.2 & 58\\\\\n",
       "\t Alaska      & 10.0 & 48\\\\\n",
       "\t Arizona     &  8.1 & 80\\\\\n",
       "\t Arkansas    &  8.8 & 50\\\\\n",
       "\t California  &  9.0 & 91\\\\\n",
       "\t Colorado    &  7.9 & 78\\\\\n",
       "\t Connecticut &  3.3 & 77\\\\\n",
       "\t Delaware    &  5.9 & 72\\\\\n",
       "\t Florida     & 15.4 & 80\\\\\n",
       "\t Georgia     & 17.4 & 60\\\\\n",
       "\t Hawaii      &  5.3 & 83\\\\\n",
       "\t Idaho       &  2.6 & 54\\\\\n",
       "\t Illinois    & 10.4 & 83\\\\\n",
       "\t Indiana     &  7.2 & 65\\\\\n",
       "\t Iowa        &  2.2 & 57\\\\\n",
       "\t Kansas      &  6.0 & 66\\\\\n",
       "\t Kentucky    &  9.7 & 52\\\\\n",
       "\t Louisiana   & 15.4 & 66\\\\\n",
       "\t Maine       &  2.1 & 51\\\\\n",
       "\t Maryland    & 11.3 & 67\\\\\n",
       "\\end{tabular}\n"
      ],
      "text/markdown": [
       "\n",
       "A data.frame: 20 × 3\n",
       "\n",
       "| X &lt;chr&gt; | Murder &lt;dbl&gt; | UrbanPop &lt;int&gt; |\n",
       "|---|---|---|\n",
       "| Alabama     | 13.2 | 58 |\n",
       "| Alaska      | 10.0 | 48 |\n",
       "| Arizona     |  8.1 | 80 |\n",
       "| Arkansas    |  8.8 | 50 |\n",
       "| California  |  9.0 | 91 |\n",
       "| Colorado    |  7.9 | 78 |\n",
       "| Connecticut |  3.3 | 77 |\n",
       "| Delaware    |  5.9 | 72 |\n",
       "| Florida     | 15.4 | 80 |\n",
       "| Georgia     | 17.4 | 60 |\n",
       "| Hawaii      |  5.3 | 83 |\n",
       "| Idaho       |  2.6 | 54 |\n",
       "| Illinois    | 10.4 | 83 |\n",
       "| Indiana     |  7.2 | 65 |\n",
       "| Iowa        |  2.2 | 57 |\n",
       "| Kansas      |  6.0 | 66 |\n",
       "| Kentucky    |  9.7 | 52 |\n",
       "| Louisiana   | 15.4 | 66 |\n",
       "| Maine       |  2.1 | 51 |\n",
       "| Maryland    | 11.3 | 67 |\n",
       "\n"
      ],
      "text/plain": [
       "   X           Murder UrbanPop\n",
       "1  Alabama     13.2   58      \n",
       "2  Alaska      10.0   48      \n",
       "3  Arizona      8.1   80      \n",
       "4  Arkansas     8.8   50      \n",
       "5  California   9.0   91      \n",
       "6  Colorado     7.9   78      \n",
       "7  Connecticut  3.3   77      \n",
       "8  Delaware     5.9   72      \n",
       "9  Florida     15.4   80      \n",
       "10 Georgia     17.4   60      \n",
       "11 Hawaii       5.3   83      \n",
       "12 Idaho        2.6   54      \n",
       "13 Illinois    10.4   83      \n",
       "14 Indiana      7.2   65      \n",
       "15 Iowa         2.2   57      \n",
       "16 Kansas       6.0   66      \n",
       "17 Kentucky     9.7   52      \n",
       "18 Louisiana   15.4   66      \n",
       "19 Maine        2.1   51      \n",
       "20 Maryland    11.3   67      "
      ]
     },
     "metadata": {},
     "output_type": "display_data"
    }
   ],
   "source": [
    "read.csv(\"data_subset.csv\")"
   ]
  },
  {
   "cell_type": "code",
   "execution_count": 98,
   "id": "debe6f61-d77a-48ba-8a11-eaa0e3f90b2d",
   "metadata": {},
   "outputs": [
    {
     "data": {
      "text/html": [
       "<table class=\"dataframe\">\n",
       "<caption>A data.frame: 8 × 5</caption>\n",
       "<thead>\n",
       "\t<tr><th scope=col>NA.</th><th scope=col>Murder</th><th scope=col>Assault</th><th scope=col>UrbanPop</th><th scope=col>Rape</th></tr>\n",
       "\t<tr><th scope=col>&lt;chr&gt;</th><th scope=col>&lt;dbl&gt;</th><th scope=col>&lt;dbl&gt;</th><th scope=col>&lt;dbl&gt;</th><th scope=col>&lt;dbl&gt;</th></tr>\n",
       "</thead>\n",
       "<tbody>\n",
       "\t<tr><td>Maine        </td><td> 2.1</td><td> 83</td><td>51</td><td> 7.8</td></tr>\n",
       "\t<tr><td>Maryland     </td><td>11.3</td><td>300</td><td>67</td><td>27.8</td></tr>\n",
       "\t<tr><td>Massachusetts</td><td> 4.4</td><td>149</td><td>85</td><td>16.3</td></tr>\n",
       "\t<tr><td>Michigan     </td><td>12.1</td><td>255</td><td>74</td><td>35.1</td></tr>\n",
       "\t<tr><td>Minnesota    </td><td> 2.7</td><td> 72</td><td>66</td><td>14.9</td></tr>\n",
       "\t<tr><td>Mississippi  </td><td>16.1</td><td>259</td><td>44</td><td>17.1</td></tr>\n",
       "\t<tr><td>Missouri     </td><td> 9.0</td><td>178</td><td>70</td><td>28.2</td></tr>\n",
       "\t<tr><td>Montana      </td><td> 6.0</td><td>109</td><td>53</td><td>16.4</td></tr>\n",
       "</tbody>\n",
       "</table>\n"
      ],
      "text/latex": [
       "A data.frame: 8 × 5\n",
       "\\begin{tabular}{lllll}\n",
       " NA. & Murder & Assault & UrbanPop & Rape\\\\\n",
       " <chr> & <dbl> & <dbl> & <dbl> & <dbl>\\\\\n",
       "\\hline\n",
       "\t Maine         &  2.1 &  83 & 51 &  7.8\\\\\n",
       "\t Maryland      & 11.3 & 300 & 67 & 27.8\\\\\n",
       "\t Massachusetts &  4.4 & 149 & 85 & 16.3\\\\\n",
       "\t Michigan      & 12.1 & 255 & 74 & 35.1\\\\\n",
       "\t Minnesota     &  2.7 &  72 & 66 & 14.9\\\\\n",
       "\t Mississippi   & 16.1 & 259 & 44 & 17.1\\\\\n",
       "\t Missouri      &  9.0 & 178 & 70 & 28.2\\\\\n",
       "\t Montana       &  6.0 & 109 & 53 & 16.4\\\\\n",
       "\\end{tabular}\n"
      ],
      "text/markdown": [
       "\n",
       "A data.frame: 8 × 5\n",
       "\n",
       "| NA. &lt;chr&gt; | Murder &lt;dbl&gt; | Assault &lt;dbl&gt; | UrbanPop &lt;dbl&gt; | Rape &lt;dbl&gt; |\n",
       "|---|---|---|---|---|\n",
       "| Maine         |  2.1 |  83 | 51 |  7.8 |\n",
       "| Maryland      | 11.3 | 300 | 67 | 27.8 |\n",
       "| Massachusetts |  4.4 | 149 | 85 | 16.3 |\n",
       "| Michigan      | 12.1 | 255 | 74 | 35.1 |\n",
       "| Minnesota     |  2.7 |  72 | 66 | 14.9 |\n",
       "| Mississippi   | 16.1 | 259 | 44 | 17.1 |\n",
       "| Missouri      |  9.0 | 178 | 70 | 28.2 |\n",
       "| Montana       |  6.0 | 109 | 53 | 16.4 |\n",
       "\n"
      ],
      "text/plain": [
       "  NA.           Murder Assault UrbanPop Rape\n",
       "1 Maine          2.1    83     51        7.8\n",
       "2 Maryland      11.3   300     67       27.8\n",
       "3 Massachusetts  4.4   149     85       16.3\n",
       "4 Michigan      12.1   255     74       35.1\n",
       "5 Minnesota      2.7    72     66       14.9\n",
       "6 Mississippi   16.1   259     44       17.1\n",
       "7 Missouri       9.0   178     70       28.2\n",
       "8 Montana        6.0   109     53       16.4"
      ]
     },
     "metadata": {},
     "output_type": "display_data"
    }
   ],
   "source": [
    "read.xlsx(\"data_stat.xlsx\", sheetName = \"M\")"
   ]
  },
  {
   "cell_type": "code",
   "execution_count": 99,
   "id": "2986865b-74d6-493d-adde-129082bbddfa",
   "metadata": {},
   "outputs": [
    {
     "data": {
      "text/html": [
       "<table class=\"dataframe\">\n",
       "<caption>A data.frame: 8 × 5</caption>\n",
       "<thead>\n",
       "\t<tr><th scope=col>NA.</th><th scope=col>Murder</th><th scope=col>Assault</th><th scope=col>UrbanPop</th><th scope=col>Rape</th></tr>\n",
       "\t<tr><th scope=col>&lt;chr&gt;</th><th scope=col>&lt;dbl&gt;</th><th scope=col>&lt;dbl&gt;</th><th scope=col>&lt;dbl&gt;</th><th scope=col>&lt;dbl&gt;</th></tr>\n",
       "</thead>\n",
       "<tbody>\n",
       "\t<tr><td>Nebraska      </td><td> 4.3</td><td>102</td><td>62</td><td>16.5</td></tr>\n",
       "\t<tr><td>Nevada        </td><td>12.2</td><td>252</td><td>81</td><td>46.0</td></tr>\n",
       "\t<tr><td>New Hampshire </td><td> 2.1</td><td> 57</td><td>56</td><td> 9.5</td></tr>\n",
       "\t<tr><td>New Jersey    </td><td> 7.4</td><td>159</td><td>89</td><td>18.8</td></tr>\n",
       "\t<tr><td>New Mexico    </td><td>11.4</td><td>285</td><td>70</td><td>32.1</td></tr>\n",
       "\t<tr><td>New York      </td><td>11.1</td><td>254</td><td>86</td><td>26.1</td></tr>\n",
       "\t<tr><td>North Carolina</td><td>13.0</td><td>337</td><td>45</td><td>16.1</td></tr>\n",
       "\t<tr><td>North Dakota  </td><td> 0.8</td><td> 45</td><td>44</td><td> 7.3</td></tr>\n",
       "</tbody>\n",
       "</table>\n"
      ],
      "text/latex": [
       "A data.frame: 8 × 5\n",
       "\\begin{tabular}{lllll}\n",
       " NA. & Murder & Assault & UrbanPop & Rape\\\\\n",
       " <chr> & <dbl> & <dbl> & <dbl> & <dbl>\\\\\n",
       "\\hline\n",
       "\t Nebraska       &  4.3 & 102 & 62 & 16.5\\\\\n",
       "\t Nevada         & 12.2 & 252 & 81 & 46.0\\\\\n",
       "\t New Hampshire  &  2.1 &  57 & 56 &  9.5\\\\\n",
       "\t New Jersey     &  7.4 & 159 & 89 & 18.8\\\\\n",
       "\t New Mexico     & 11.4 & 285 & 70 & 32.1\\\\\n",
       "\t New York       & 11.1 & 254 & 86 & 26.1\\\\\n",
       "\t North Carolina & 13.0 & 337 & 45 & 16.1\\\\\n",
       "\t North Dakota   &  0.8 &  45 & 44 &  7.3\\\\\n",
       "\\end{tabular}\n"
      ],
      "text/markdown": [
       "\n",
       "A data.frame: 8 × 5\n",
       "\n",
       "| NA. &lt;chr&gt; | Murder &lt;dbl&gt; | Assault &lt;dbl&gt; | UrbanPop &lt;dbl&gt; | Rape &lt;dbl&gt; |\n",
       "|---|---|---|---|---|\n",
       "| Nebraska       |  4.3 | 102 | 62 | 16.5 |\n",
       "| Nevada         | 12.2 | 252 | 81 | 46.0 |\n",
       "| New Hampshire  |  2.1 |  57 | 56 |  9.5 |\n",
       "| New Jersey     |  7.4 | 159 | 89 | 18.8 |\n",
       "| New Mexico     | 11.4 | 285 | 70 | 32.1 |\n",
       "| New York       | 11.1 | 254 | 86 | 26.1 |\n",
       "| North Carolina | 13.0 | 337 | 45 | 16.1 |\n",
       "| North Dakota   |  0.8 |  45 | 44 |  7.3 |\n",
       "\n"
      ],
      "text/plain": [
       "  NA.            Murder Assault UrbanPop Rape\n",
       "1 Nebraska        4.3   102     62       16.5\n",
       "2 Nevada         12.2   252     81       46.0\n",
       "3 New Hampshire   2.1    57     56        9.5\n",
       "4 New Jersey      7.4   159     89       18.8\n",
       "5 New Mexico     11.4   285     70       32.1\n",
       "6 New York       11.1   254     86       26.1\n",
       "7 North Carolina 13.0   337     45       16.1\n",
       "8 North Dakota    0.8    45     44        7.3"
      ]
     },
     "metadata": {},
     "output_type": "display_data"
    }
   ],
   "source": [
    "read.xlsx(\"data_stat.xlsx\", sheetName = \"N\")"
   ]
  }
 ],
 "metadata": {
  "kernelspec": {
   "display_name": "R",
   "language": "R",
   "name": "ir"
  },
  "language_info": {
   "codemirror_mode": "r",
   "file_extension": ".r",
   "mimetype": "text/x-r-source",
   "name": "R",
   "pygments_lexer": "r",
   "version": "4.3.1"
  }
 },
 "nbformat": 4,
 "nbformat_minor": 5
}
