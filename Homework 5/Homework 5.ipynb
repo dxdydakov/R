{
 "cells": [
  {
   "cell_type": "markdown",
   "id": "60624f42-c526-4e97-b879-a9701a23e377",
   "metadata": {},
   "source": [
    "# Домашнее задание № 5"
   ]
  },
  {
   "cell_type": "markdown",
   "id": "5bf1e9c7-e2ad-4048-a9e2-1d2573913e7c",
   "metadata": {},
   "source": [
    "В данной работе я работаю с данными из дипломной работы. Данные имеются в открытом доступе:\n",
    "\n",
    "https://science.bostongene.com/kassandra/downloads\n",
    "\n",
    "В частности, здесь используются 45 образцов Bulk RNA-seq для крови (таблица expr_table). Единица измерения экспрессий - TPM. В каждом из образцов мы также знаем долю различных типок клеток по результатам цитометрии (таблица prop_table)."
   ]
  },
  {
   "cell_type": "code",
   "execution_count": 256,
   "id": "b09c6ae9-3513-4dcd-9533-6e5e46081650",
   "metadata": {},
   "outputs": [
    {
     "name": "stderr",
     "output_type": "stream",
     "text": [
      "\u001b[1m\u001b[22mNew names:\n",
      "\u001b[36m•\u001b[39m `` -> `...1`\n"
     ]
    }
   ],
   "source": [
    "library(readr)\n",
    "\n",
    "prop_table <- read_tsv(\"BG_blood_cytometry.tsv\", show_col_types = FALSE)\n",
    "expr_table <- read_tsv(\"BG_blood_expressions.tsv\", show_col_types = FALSE)"
   ]
  },
  {
   "cell_type": "markdown",
   "id": "43a008f0-8928-45e1-bd68-96a5b3f96da2",
   "metadata": {},
   "source": [
    "### Распределение долей некоторых основных иммунных и стромальных типов клеток в образцах."
   ]
  },
  {
   "cell_type": "code",
   "execution_count": 173,
   "id": "57bbcf7b-9228-405f-97ee-396a4fe32dfc",
   "metadata": {},
   "outputs": [
    {
     "data": {
      "text/html": [
       "<table class=\"dataframe\">\n",
       "<caption>A tibble: 6 × 51</caption>\n",
       "<thead>\n",
       "\t<tr><th scope=col>...1</th><th scope=col>Neutrophils</th><th scope=col>T_cells</th><th scope=col>Eosinophils</th><th scope=col>Monocytes</th><th scope=col>B_cells</th><th scope=col>NK_cells</th><th scope=col>Basophils</th><th scope=col>PDC</th><th scope=col>Granulocytes</th><th scope=col>⋯</th><th scope=col>Class_switched_memory_B_cells</th><th scope=col>CD8_T_cells</th><th scope=col>CD4_T_cells</th><th scope=col>Naive_CD8_T_cells</th><th scope=col>Memory_CD8_T_cells</th><th scope=col>TEMRA_CD8_T_cells</th><th scope=col>Central_memory_CD8_T_cells</th><th scope=col>Effector_memory_CD8_T_cells</th><th scope=col>Transitional_memory_CD8_T_cells</th><th scope=col>Dendritic_cells</th></tr>\n",
       "\t<tr><th scope=col>&lt;chr&gt;</th><th scope=col>&lt;dbl&gt;</th><th scope=col>&lt;dbl&gt;</th><th scope=col>&lt;dbl&gt;</th><th scope=col>&lt;dbl&gt;</th><th scope=col>&lt;dbl&gt;</th><th scope=col>&lt;dbl&gt;</th><th scope=col>&lt;dbl&gt;</th><th scope=col>&lt;dbl&gt;</th><th scope=col>&lt;dbl&gt;</th><th scope=col>⋯</th><th scope=col>&lt;dbl&gt;</th><th scope=col>&lt;dbl&gt;</th><th scope=col>&lt;dbl&gt;</th><th scope=col>&lt;dbl&gt;</th><th scope=col>&lt;dbl&gt;</th><th scope=col>&lt;dbl&gt;</th><th scope=col>&lt;dbl&gt;</th><th scope=col>&lt;dbl&gt;</th><th scope=col>&lt;dbl&gt;</th><th scope=col>&lt;dbl&gt;</th></tr>\n",
       "</thead>\n",
       "<tbody>\n",
       "\t<tr><td>F0303</td><td>65.35769</td><td>14.729883</td><td>4.868582</td><td> 8.060685</td><td>3.177866</td><td>2.482497</td><td>0.7051101</td><td>0.009241613</td><td>70.93138</td><td>⋯</td><td>NA</td><td>NA</td><td>NA</td><td>NA</td><td>NA</td><td>NA</td><td>NA</td><td>NA</td><td>NA</td><td>0.6176894</td></tr>\n",
       "\t<tr><td>F0304</td><td>59.76293</td><td>16.624683</td><td>6.284414</td><td> 6.955060</td><td>1.830591</td><td>6.611164</td><td>1.2080847</td><td>0.120676580</td><td>67.25543</td><td>⋯</td><td>NA</td><td>NA</td><td>NA</td><td>NA</td><td>NA</td><td>NA</td><td>NA</td><td>NA</td><td>NA</td><td>0.7230703</td></tr>\n",
       "\t<tr><td>F0305</td><td>68.37617</td><td>10.235667</td><td>4.807129</td><td>10.117843</td><td>2.494479</td><td>2.981150</td><td>0.5456793</td><td>0.086493718</td><td>73.72897</td><td>⋯</td><td>NA</td><td>NA</td><td>NA</td><td>NA</td><td>NA</td><td>NA</td><td>NA</td><td>NA</td><td>NA</td><td>0.4418868</td></tr>\n",
       "\t<tr><td>F0306</td><td>60.55696</td><td>13.561130</td><td>6.439274</td><td> 9.663453</td><td>2.370700</td><td>5.563592</td><td>1.1569230</td><td>0.175270980</td><td>68.15316</td><td>⋯</td><td>NA</td><td>NA</td><td>NA</td><td>NA</td><td>NA</td><td>NA</td><td>NA</td><td>NA</td><td>NA</td><td>0.6879638</td></tr>\n",
       "\t<tr><td>F0307</td><td>65.76893</td><td> 8.802754</td><td>5.985734</td><td>12.994177</td><td>1.935929</td><td>3.154627</td><td>0.7130288</td><td>0.104050300</td><td>72.46770</td><td>⋯</td><td>NA</td><td>NA</td><td>NA</td><td>NA</td><td>NA</td><td>NA</td><td>NA</td><td>NA</td><td>NA</td><td>0.6448153</td></tr>\n",
       "\t<tr><td>F0308</td><td>48.96111</td><td>16.419571</td><td>9.197016</td><td>13.565648</td><td>2.409496</td><td>6.872550</td><td>1.8864660</td><td>0.180440274</td><td>60.04459</td><td>⋯</td><td>NA</td><td>NA</td><td>NA</td><td>NA</td><td>NA</td><td>NA</td><td>NA</td><td>NA</td><td>NA</td><td>0.6881448</td></tr>\n",
       "</tbody>\n",
       "</table>\n"
      ],
      "text/latex": [
       "A tibble: 6 × 51\n",
       "\\begin{tabular}{lllllllllllllllllllll}\n",
       " ...1 & Neutrophils & T\\_cells & Eosinophils & Monocytes & B\\_cells & NK\\_cells & Basophils & PDC & Granulocytes & ⋯ & Class\\_switched\\_memory\\_B\\_cells & CD8\\_T\\_cells & CD4\\_T\\_cells & Naive\\_CD8\\_T\\_cells & Memory\\_CD8\\_T\\_cells & TEMRA\\_CD8\\_T\\_cells & Central\\_memory\\_CD8\\_T\\_cells & Effector\\_memory\\_CD8\\_T\\_cells & Transitional\\_memory\\_CD8\\_T\\_cells & Dendritic\\_cells\\\\\n",
       " <chr> & <dbl> & <dbl> & <dbl> & <dbl> & <dbl> & <dbl> & <dbl> & <dbl> & <dbl> & ⋯ & <dbl> & <dbl> & <dbl> & <dbl> & <dbl> & <dbl> & <dbl> & <dbl> & <dbl> & <dbl>\\\\\n",
       "\\hline\n",
       "\t F0303 & 65.35769 & 14.729883 & 4.868582 &  8.060685 & 3.177866 & 2.482497 & 0.7051101 & 0.009241613 & 70.93138 & ⋯ & NA & NA & NA & NA & NA & NA & NA & NA & NA & 0.6176894\\\\\n",
       "\t F0304 & 59.76293 & 16.624683 & 6.284414 &  6.955060 & 1.830591 & 6.611164 & 1.2080847 & 0.120676580 & 67.25543 & ⋯ & NA & NA & NA & NA & NA & NA & NA & NA & NA & 0.7230703\\\\\n",
       "\t F0305 & 68.37617 & 10.235667 & 4.807129 & 10.117843 & 2.494479 & 2.981150 & 0.5456793 & 0.086493718 & 73.72897 & ⋯ & NA & NA & NA & NA & NA & NA & NA & NA & NA & 0.4418868\\\\\n",
       "\t F0306 & 60.55696 & 13.561130 & 6.439274 &  9.663453 & 2.370700 & 5.563592 & 1.1569230 & 0.175270980 & 68.15316 & ⋯ & NA & NA & NA & NA & NA & NA & NA & NA & NA & 0.6879638\\\\\n",
       "\t F0307 & 65.76893 &  8.802754 & 5.985734 & 12.994177 & 1.935929 & 3.154627 & 0.7130288 & 0.104050300 & 72.46770 & ⋯ & NA & NA & NA & NA & NA & NA & NA & NA & NA & 0.6448153\\\\\n",
       "\t F0308 & 48.96111 & 16.419571 & 9.197016 & 13.565648 & 2.409496 & 6.872550 & 1.8864660 & 0.180440274 & 60.04459 & ⋯ & NA & NA & NA & NA & NA & NA & NA & NA & NA & 0.6881448\\\\\n",
       "\\end{tabular}\n"
      ],
      "text/markdown": [
       "\n",
       "A tibble: 6 × 51\n",
       "\n",
       "| ...1 &lt;chr&gt; | Neutrophils &lt;dbl&gt; | T_cells &lt;dbl&gt; | Eosinophils &lt;dbl&gt; | Monocytes &lt;dbl&gt; | B_cells &lt;dbl&gt; | NK_cells &lt;dbl&gt; | Basophils &lt;dbl&gt; | PDC &lt;dbl&gt; | Granulocytes &lt;dbl&gt; | ⋯ ⋯ | Class_switched_memory_B_cells &lt;dbl&gt; | CD8_T_cells &lt;dbl&gt; | CD4_T_cells &lt;dbl&gt; | Naive_CD8_T_cells &lt;dbl&gt; | Memory_CD8_T_cells &lt;dbl&gt; | TEMRA_CD8_T_cells &lt;dbl&gt; | Central_memory_CD8_T_cells &lt;dbl&gt; | Effector_memory_CD8_T_cells &lt;dbl&gt; | Transitional_memory_CD8_T_cells &lt;dbl&gt; | Dendritic_cells &lt;dbl&gt; |\n",
       "|---|---|---|---|---|---|---|---|---|---|---|---|---|---|---|---|---|---|---|---|---|\n",
       "| F0303 | 65.35769 | 14.729883 | 4.868582 |  8.060685 | 3.177866 | 2.482497 | 0.7051101 | 0.009241613 | 70.93138 | ⋯ | NA | NA | NA | NA | NA | NA | NA | NA | NA | 0.6176894 |\n",
       "| F0304 | 59.76293 | 16.624683 | 6.284414 |  6.955060 | 1.830591 | 6.611164 | 1.2080847 | 0.120676580 | 67.25543 | ⋯ | NA | NA | NA | NA | NA | NA | NA | NA | NA | 0.7230703 |\n",
       "| F0305 | 68.37617 | 10.235667 | 4.807129 | 10.117843 | 2.494479 | 2.981150 | 0.5456793 | 0.086493718 | 73.72897 | ⋯ | NA | NA | NA | NA | NA | NA | NA | NA | NA | 0.4418868 |\n",
       "| F0306 | 60.55696 | 13.561130 | 6.439274 |  9.663453 | 2.370700 | 5.563592 | 1.1569230 | 0.175270980 | 68.15316 | ⋯ | NA | NA | NA | NA | NA | NA | NA | NA | NA | 0.6879638 |\n",
       "| F0307 | 65.76893 |  8.802754 | 5.985734 | 12.994177 | 1.935929 | 3.154627 | 0.7130288 | 0.104050300 | 72.46770 | ⋯ | NA | NA | NA | NA | NA | NA | NA | NA | NA | 0.6448153 |\n",
       "| F0308 | 48.96111 | 16.419571 | 9.197016 | 13.565648 | 2.409496 | 6.872550 | 1.8864660 | 0.180440274 | 60.04459 | ⋯ | NA | NA | NA | NA | NA | NA | NA | NA | NA | 0.6881448 |\n",
       "\n"
      ],
      "text/plain": [
       "  ...1  Neutrophils T_cells   Eosinophils Monocytes B_cells  NK_cells Basophils\n",
       "1 F0303 65.35769    14.729883 4.868582     8.060685 3.177866 2.482497 0.7051101\n",
       "2 F0304 59.76293    16.624683 6.284414     6.955060 1.830591 6.611164 1.2080847\n",
       "3 F0305 68.37617    10.235667 4.807129    10.117843 2.494479 2.981150 0.5456793\n",
       "4 F0306 60.55696    13.561130 6.439274     9.663453 2.370700 5.563592 1.1569230\n",
       "5 F0307 65.76893     8.802754 5.985734    12.994177 1.935929 3.154627 0.7130288\n",
       "6 F0308 48.96111    16.419571 9.197016    13.565648 2.409496 6.872550 1.8864660\n",
       "  PDC         Granulocytes ⋯ Class_switched_memory_B_cells CD8_T_cells\n",
       "1 0.009241613 70.93138     ⋯ NA                            NA         \n",
       "2 0.120676580 67.25543     ⋯ NA                            NA         \n",
       "3 0.086493718 73.72897     ⋯ NA                            NA         \n",
       "4 0.175270980 68.15316     ⋯ NA                            NA         \n",
       "5 0.104050300 72.46770     ⋯ NA                            NA         \n",
       "6 0.180440274 60.04459     ⋯ NA                            NA         \n",
       "  CD4_T_cells Naive_CD8_T_cells Memory_CD8_T_cells TEMRA_CD8_T_cells\n",
       "1 NA          NA                NA                 NA               \n",
       "2 NA          NA                NA                 NA               \n",
       "3 NA          NA                NA                 NA               \n",
       "4 NA          NA                NA                 NA               \n",
       "5 NA          NA                NA                 NA               \n",
       "6 NA          NA                NA                 NA               \n",
       "  Central_memory_CD8_T_cells Effector_memory_CD8_T_cells\n",
       "1 NA                         NA                         \n",
       "2 NA                         NA                         \n",
       "3 NA                         NA                         \n",
       "4 NA                         NA                         \n",
       "5 NA                         NA                         \n",
       "6 NA                         NA                         \n",
       "  Transitional_memory_CD8_T_cells Dendritic_cells\n",
       "1 NA                              0.6176894      \n",
       "2 NA                              0.7230703      \n",
       "3 NA                              0.4418868      \n",
       "4 NA                              0.6879638      \n",
       "5 NA                              0.6448153      \n",
       "6 NA                              0.6881448      "
      ]
     },
     "metadata": {},
     "output_type": "display_data"
    }
   ],
   "source": [
    "head(prop_table)"
   ]
  },
  {
   "cell_type": "code",
   "execution_count": 172,
   "id": "764f9ec3-8868-42dc-9c4a-678f5002eff4",
   "metadata": {},
   "outputs": [
    {
     "data": {
      "text/html": [
       "<table class=\"dataframe\">\n",
       "<caption>A tibble: 6 × 5</caption>\n",
       "<thead>\n",
       "\t<tr><th scope=col>Neutrophils</th><th scope=col>T_cells</th><th scope=col>Eosinophils</th><th scope=col>Monocytes</th><th scope=col>B_cells</th></tr>\n",
       "\t<tr><th scope=col>&lt;dbl&gt;</th><th scope=col>&lt;dbl&gt;</th><th scope=col>&lt;dbl&gt;</th><th scope=col>&lt;dbl&gt;</th><th scope=col>&lt;dbl&gt;</th></tr>\n",
       "</thead>\n",
       "<tbody>\n",
       "\t<tr><td>65.35769</td><td>14.729883</td><td>4.868582</td><td> 8.060685</td><td>3.177866</td></tr>\n",
       "\t<tr><td>59.76293</td><td>16.624683</td><td>6.284414</td><td> 6.955060</td><td>1.830591</td></tr>\n",
       "\t<tr><td>68.37617</td><td>10.235667</td><td>4.807129</td><td>10.117843</td><td>2.494479</td></tr>\n",
       "\t<tr><td>60.55696</td><td>13.561130</td><td>6.439274</td><td> 9.663453</td><td>2.370700</td></tr>\n",
       "\t<tr><td>65.76893</td><td> 8.802754</td><td>5.985734</td><td>12.994177</td><td>1.935929</td></tr>\n",
       "\t<tr><td>48.96111</td><td>16.419571</td><td>9.197016</td><td>13.565648</td><td>2.409496</td></tr>\n",
       "</tbody>\n",
       "</table>\n"
      ],
      "text/latex": [
       "A tibble: 6 × 5\n",
       "\\begin{tabular}{lllll}\n",
       " Neutrophils & T\\_cells & Eosinophils & Monocytes & B\\_cells\\\\\n",
       " <dbl> & <dbl> & <dbl> & <dbl> & <dbl>\\\\\n",
       "\\hline\n",
       "\t 65.35769 & 14.729883 & 4.868582 &  8.060685 & 3.177866\\\\\n",
       "\t 59.76293 & 16.624683 & 6.284414 &  6.955060 & 1.830591\\\\\n",
       "\t 68.37617 & 10.235667 & 4.807129 & 10.117843 & 2.494479\\\\\n",
       "\t 60.55696 & 13.561130 & 6.439274 &  9.663453 & 2.370700\\\\\n",
       "\t 65.76893 &  8.802754 & 5.985734 & 12.994177 & 1.935929\\\\\n",
       "\t 48.96111 & 16.419571 & 9.197016 & 13.565648 & 2.409496\\\\\n",
       "\\end{tabular}\n"
      ],
      "text/markdown": [
       "\n",
       "A tibble: 6 × 5\n",
       "\n",
       "| Neutrophils &lt;dbl&gt; | T_cells &lt;dbl&gt; | Eosinophils &lt;dbl&gt; | Monocytes &lt;dbl&gt; | B_cells &lt;dbl&gt; |\n",
       "|---|---|---|---|---|\n",
       "| 65.35769 | 14.729883 | 4.868582 |  8.060685 | 3.177866 |\n",
       "| 59.76293 | 16.624683 | 6.284414 |  6.955060 | 1.830591 |\n",
       "| 68.37617 | 10.235667 | 4.807129 | 10.117843 | 2.494479 |\n",
       "| 60.55696 | 13.561130 | 6.439274 |  9.663453 | 2.370700 |\n",
       "| 65.76893 |  8.802754 | 5.985734 | 12.994177 | 1.935929 |\n",
       "| 48.96111 | 16.419571 | 9.197016 | 13.565648 | 2.409496 |\n",
       "\n"
      ],
      "text/plain": [
       "  Neutrophils T_cells   Eosinophils Monocytes B_cells \n",
       "1 65.35769    14.729883 4.868582     8.060685 3.177866\n",
       "2 59.76293    16.624683 6.284414     6.955060 1.830591\n",
       "3 68.37617    10.235667 4.807129    10.117843 2.494479\n",
       "4 60.55696    13.561130 6.439274     9.663453 2.370700\n",
       "5 65.76893     8.802754 5.985734    12.994177 1.935929\n",
       "6 48.96111    16.419571 9.197016    13.565648 2.409496"
      ]
     },
     "metadata": {},
     "output_type": "display_data"
    }
   ],
   "source": [
    "cells_types = c('Neutrophils', 'T_cells', 'Eosinophils', 'Monocytes', 'B_cells')\n",
    "\n",
    "prop_table_sliced = prop_table[cells_types]\n",
    "head(prop_table_sliced)"
   ]
  },
  {
   "cell_type": "code",
   "execution_count": 137,
   "id": "70cc0ef7-f071-4331-9a91-a5776c0aa928",
   "metadata": {},
   "outputs": [
    {
     "data": {
      "image/png": "[encoded data removed]",
      "text/plain": [
       "plot without title"
      ]
     },
     "metadata": {
      "image/png": {
       "height": 420,
       "width": 420
      }
     },
     "output_type": "display_data"
    }
   ],
   "source": [
    "ggplot() + \n",
    "aes(rowSums(prop_table_sliced)) + \n",
    "geom_histogram(bins = 10, colour=\"black\", fill=\"skyblue\") + \n",
    "labs(title = \"Распределение суммарной доли \\nосновных иммунных и стромальных типов клеток\", x = \"Доля, %\", y = \"Частота\")"
   ]
  },
  {
   "cell_type": "code",
   "execution_count": 165,
   "id": "7508a55b-acf7-4065-bc76-addaf3d6b6bf",
   "metadata": {},
   "outputs": [
    {
     "data": {
      "image/png": "[encoded data removed]",
      "text/plain": [
       "plot without title"
      ]
     },
     "metadata": {
      "image/png": {
       "height": 420,
       "width": 420
      }
     },
     "output_type": "display_data"
    }
   ],
   "source": [
    "dataframe_long <- gather(prop_table_sliced, key = \"variable\", value = \"value\")\n",
    "\n",
    "ggplot(data = dataframe_long, aes(x = variable, y = value)) +\n",
    "  geom_boxplot(color = 1, fill = c(2,3,4,5,6)) +\n",
    "  labs(title = \"Распределение долей клеток по типам\", x = \"Тип клеток\", y = \"Значение\")"
   ]
  },
  {
   "cell_type": "markdown",
   "id": "817f3b5a-af9c-4102-a1df-edbd51e50fc6",
   "metadata": {},
   "source": [
    "### Распределение экспрессий в TPM"
   ]
  },
  {
   "cell_type": "code",
   "execution_count": 171,
   "id": "a8abfa83-c38b-425e-97f4-2864a2b7fed0",
   "metadata": {},
   "outputs": [
    {
     "data": {
      "text/html": [
       "<table class=\"dataframe\">\n",
       "<caption>A tibble: 6 × 76</caption>\n",
       "<thead>\n",
       "\t<tr><th scope=col>Gene</th><th scope=col>210514_NovaA_Sample_119</th><th scope=col>210514_NovaA_Sample_125</th><th scope=col>210514_NovaA_Sample_126</th><th scope=col>210514_NovaA_Sample_127</th><th scope=col>210514_NovaA_Sample_128</th><th scope=col>210514_NovaA_Sample_129</th><th scope=col>210514_NovaA_Sample_130</th><th scope=col>210514_NovaA_Sample_131</th><th scope=col>210514_NovaA_Sample_155</th><th scope=col>⋯</th><th scope=col>210526_NovaB_Sample_31</th><th scope=col>210526_NovaB_Sample_32</th><th scope=col>210526_NovaB_Sample_4</th><th scope=col>210526_NovaB_Sample_5</th><th scope=col>210526_NovaB_Sample_6</th><th scope=col>210526_NovaB_Sample_7</th><th scope=col>210526_NovaB_Sample_8</th><th scope=col>210526_NovaB_Sample_9</th><th scope=col>210423_NovaB_Sample_11</th><th scope=col>210423_NovaB_Sample_12</th></tr>\n",
       "\t<tr><th scope=col>&lt;chr&gt;</th><th scope=col>&lt;dbl&gt;</th><th scope=col>&lt;dbl&gt;</th><th scope=col>&lt;dbl&gt;</th><th scope=col>&lt;dbl&gt;</th><th scope=col>&lt;dbl&gt;</th><th scope=col>&lt;dbl&gt;</th><th scope=col>&lt;dbl&gt;</th><th scope=col>&lt;dbl&gt;</th><th scope=col>&lt;dbl&gt;</th><th scope=col>⋯</th><th scope=col>&lt;dbl&gt;</th><th scope=col>&lt;dbl&gt;</th><th scope=col>&lt;dbl&gt;</th><th scope=col>&lt;dbl&gt;</th><th scope=col>&lt;dbl&gt;</th><th scope=col>&lt;dbl&gt;</th><th scope=col>&lt;dbl&gt;</th><th scope=col>&lt;dbl&gt;</th><th scope=col>&lt;dbl&gt;</th><th scope=col>&lt;dbl&gt;</th></tr>\n",
       "</thead>\n",
       "<tbody>\n",
       "\t<tr><td>A1BG  </td><td>0.0000000</td><td> 0.1008138</td><td>0.07463937</td><td>0.11863530</td><td>0.00000000</td><td>0.12404990</td><td>0.05622084</td><td>0.00000000</td><td>0.11904644</td><td>⋯</td><td>0.1540329</td><td>0.05213075</td><td>0.25420261</td><td>0.11916153</td><td>0.00000000</td><td>0.00000000</td><td>0.0000000</td><td>0.27306098</td><td>0.00000000</td><td>0.00000000</td></tr>\n",
       "\t<tr><td>A1CF  </td><td>0.3672601</td><td> 0.2211464</td><td>0.11617910</td><td>0.07796177</td><td>0.10721909</td><td>0.10835870</td><td>0.11438411</td><td>0.15115279</td><td>0.36648967</td><td>⋯</td><td>0.2171982</td><td>0.28317918</td><td>0.17841843</td><td>0.20939012</td><td>0.12967700</td><td>0.15452019</td><td>0.1252244</td><td>0.28609477</td><td>0.17769321</td><td>0.14566191</td></tr>\n",
       "\t<tr><td>A2M   </td><td>7.4541321</td><td>13.0579971</td><td>5.11386311</td><td>4.72749612</td><td>3.47274709</td><td>3.82837657</td><td>3.78872179</td><td>2.16133545</td><td>1.36048288</td><td>⋯</td><td>0.9798571</td><td>6.11944873</td><td>4.68333805</td><td>4.70368936</td><td>3.09146594</td><td>3.38071121</td><td>6.5612474</td><td>4.57806476</td><td>5.02989551</td><td>5.32083877</td></tr>\n",
       "\t<tr><td>A2ML1 </td><td>1.3693672</td><td> 1.6826913</td><td>1.66367976</td><td>1.04327963</td><td>0.93674521</td><td>1.49374691</td><td>0.89673778</td><td>1.21179526</td><td>1.47976041</td><td>⋯</td><td>1.3424449</td><td>0.86055498</td><td>1.28982498</td><td>0.86523597</td><td>0.70596671</td><td>1.00981515</td><td>2.0820322</td><td>0.84543268</td><td>1.18776717</td><td>1.56263761</td></tr>\n",
       "\t<tr><td>A4GALT</td><td>0.0000000</td><td> 0.3701377</td><td>0.03389242</td><td>0.17557934</td><td>0.08591165</td><td>0.09255274</td><td>0.00000000</td><td>0.09087823</td><td>0.11825650</td><td>⋯</td><td>0.0000000</td><td>0.00000000</td><td>0.05747761</td><td>0.02707345</td><td>0.08688749</td><td>0.00000000</td><td>0.1659785</td><td>0.02666352</td><td>0.00000000</td><td>0.03736067</td></tr>\n",
       "\t<tr><td>A4GNT </td><td>0.0000000</td><td> 0.3453673</td><td>0.18671575</td><td>0.00000000</td><td>0.25249272</td><td>0.34008416</td><td>0.11491994</td><td>0.05007534</td><td>0.08699281</td><td>⋯</td><td>0.0000000</td><td>0.21011771</td><td>0.15861238</td><td>0.02987935</td><td>0.03196338</td><td>0.03405405</td><td>0.0000000</td><td>0.08822700</td><td>0.04594706</td><td>0.08237894</td></tr>\n",
       "</tbody>\n",
       "</table>\n"
      ],
      "text/latex": [
       "A tibble: 6 × 76\n",
       "\\begin{tabular}{lllllllllllllllllllll}\n",
       " Gene & 210514\\_NovaA\\_Sample\\_119 & 210514\\_NovaA\\_Sample\\_125 & 210514\\_NovaA\\_Sample\\_126 & 210514\\_NovaA\\_Sample\\_127 & 210514\\_NovaA\\_Sample\\_128 & 210514\\_NovaA\\_Sample\\_129 & 210514\\_NovaA\\_Sample\\_130 & 210514\\_NovaA\\_Sample\\_131 & 210514\\_NovaA\\_Sample\\_155 & ⋯ & 210526\\_NovaB\\_Sample\\_31 & 210526\\_NovaB\\_Sample\\_32 & 210526\\_NovaB\\_Sample\\_4 & 210526\\_NovaB\\_Sample\\_5 & 210526\\_NovaB\\_Sample\\_6 & 210526\\_NovaB\\_Sample\\_7 & 210526\\_NovaB\\_Sample\\_8 & 210526\\_NovaB\\_Sample\\_9 & 210423\\_NovaB\\_Sample\\_11 & 210423\\_NovaB\\_Sample\\_12\\\\\n",
       " <chr> & <dbl> & <dbl> & <dbl> & <dbl> & <dbl> & <dbl> & <dbl> & <dbl> & <dbl> & ⋯ & <dbl> & <dbl> & <dbl> & <dbl> & <dbl> & <dbl> & <dbl> & <dbl> & <dbl> & <dbl>\\\\\n",
       "\\hline\n",
       "\t A1BG   & 0.0000000 &  0.1008138 & 0.07463937 & 0.11863530 & 0.00000000 & 0.12404990 & 0.05622084 & 0.00000000 & 0.11904644 & ⋯ & 0.1540329 & 0.05213075 & 0.25420261 & 0.11916153 & 0.00000000 & 0.00000000 & 0.0000000 & 0.27306098 & 0.00000000 & 0.00000000\\\\\n",
       "\t A1CF   & 0.3672601 &  0.2211464 & 0.11617910 & 0.07796177 & 0.10721909 & 0.10835870 & 0.11438411 & 0.15115279 & 0.36648967 & ⋯ & 0.2171982 & 0.28317918 & 0.17841843 & 0.20939012 & 0.12967700 & 0.15452019 & 0.1252244 & 0.28609477 & 0.17769321 & 0.14566191\\\\\n",
       "\t A2M    & 7.4541321 & 13.0579971 & 5.11386311 & 4.72749612 & 3.47274709 & 3.82837657 & 3.78872179 & 2.16133545 & 1.36048288 & ⋯ & 0.9798571 & 6.11944873 & 4.68333805 & 4.70368936 & 3.09146594 & 3.38071121 & 6.5612474 & 4.57806476 & 5.02989551 & 5.32083877\\\\\n",
       "\t A2ML1  & 1.3693672 &  1.6826913 & 1.66367976 & 1.04327963 & 0.93674521 & 1.49374691 & 0.89673778 & 1.21179526 & 1.47976041 & ⋯ & 1.3424449 & 0.86055498 & 1.28982498 & 0.86523597 & 0.70596671 & 1.00981515 & 2.0820322 & 0.84543268 & 1.18776717 & 1.56263761\\\\\n",
       "\t A4GALT & 0.0000000 &  0.3701377 & 0.03389242 & 0.17557934 & 0.08591165 & 0.09255274 & 0.00000000 & 0.09087823 & 0.11825650 & ⋯ & 0.0000000 & 0.00000000 & 0.05747761 & 0.02707345 & 0.08688749 & 0.00000000 & 0.1659785 & 0.02666352 & 0.00000000 & 0.03736067\\\\\n",
       "\t A4GNT  & 0.0000000 &  0.3453673 & 0.18671575 & 0.00000000 & 0.25249272 & 0.34008416 & 0.11491994 & 0.05007534 & 0.08699281 & ⋯ & 0.0000000 & 0.21011771 & 0.15861238 & 0.02987935 & 0.03196338 & 0.03405405 & 0.0000000 & 0.08822700 & 0.04594706 & 0.08237894\\\\\n",
       "\\end{tabular}\n"
      ],
      "text/markdown": [
       "\n",
       "A tibble: 6 × 76\n",
       "\n",
       "| Gene &lt;chr&gt; | 210514_NovaA_Sample_119 &lt;dbl&gt; | 210514_NovaA_Sample_125 &lt;dbl&gt; | 210514_NovaA_Sample_126 &lt;dbl&gt; | 210514_NovaA_Sample_127 &lt;dbl&gt; | 210514_NovaA_Sample_128 &lt;dbl&gt; | 210514_NovaA_Sample_129 &lt;dbl&gt; | 210514_NovaA_Sample_130 &lt;dbl&gt; | 210514_NovaA_Sample_131 &lt;dbl&gt; | 210514_NovaA_Sample_155 &lt;dbl&gt; | ⋯ ⋯ | 210526_NovaB_Sample_31 &lt;dbl&gt; | 210526_NovaB_Sample_32 &lt;dbl&gt; | 210526_NovaB_Sample_4 &lt;dbl&gt; | 210526_NovaB_Sample_5 &lt;dbl&gt; | 210526_NovaB_Sample_6 &lt;dbl&gt; | 210526_NovaB_Sample_7 &lt;dbl&gt; | 210526_NovaB_Sample_8 &lt;dbl&gt; | 210526_NovaB_Sample_9 &lt;dbl&gt; | 210423_NovaB_Sample_11 &lt;dbl&gt; | 210423_NovaB_Sample_12 &lt;dbl&gt; |\n",
       "|---|---|---|---|---|---|---|---|---|---|---|---|---|---|---|---|---|---|---|---|---|\n",
       "| A1BG   | 0.0000000 |  0.1008138 | 0.07463937 | 0.11863530 | 0.00000000 | 0.12404990 | 0.05622084 | 0.00000000 | 0.11904644 | ⋯ | 0.1540329 | 0.05213075 | 0.25420261 | 0.11916153 | 0.00000000 | 0.00000000 | 0.0000000 | 0.27306098 | 0.00000000 | 0.00000000 |\n",
       "| A1CF   | 0.3672601 |  0.2211464 | 0.11617910 | 0.07796177 | 0.10721909 | 0.10835870 | 0.11438411 | 0.15115279 | 0.36648967 | ⋯ | 0.2171982 | 0.28317918 | 0.17841843 | 0.20939012 | 0.12967700 | 0.15452019 | 0.1252244 | 0.28609477 | 0.17769321 | 0.14566191 |\n",
       "| A2M    | 7.4541321 | 13.0579971 | 5.11386311 | 4.72749612 | 3.47274709 | 3.82837657 | 3.78872179 | 2.16133545 | 1.36048288 | ⋯ | 0.9798571 | 6.11944873 | 4.68333805 | 4.70368936 | 3.09146594 | 3.38071121 | 6.5612474 | 4.57806476 | 5.02989551 | 5.32083877 |\n",
       "| A2ML1  | 1.3693672 |  1.6826913 | 1.66367976 | 1.04327963 | 0.93674521 | 1.49374691 | 0.89673778 | 1.21179526 | 1.47976041 | ⋯ | 1.3424449 | 0.86055498 | 1.28982498 | 0.86523597 | 0.70596671 | 1.00981515 | 2.0820322 | 0.84543268 | 1.18776717 | 1.56263761 |\n",
       "| A4GALT | 0.0000000 |  0.3701377 | 0.03389242 | 0.17557934 | 0.08591165 | 0.09255274 | 0.00000000 | 0.09087823 | 0.11825650 | ⋯ | 0.0000000 | 0.00000000 | 0.05747761 | 0.02707345 | 0.08688749 | 0.00000000 | 0.1659785 | 0.02666352 | 0.00000000 | 0.03736067 |\n",
       "| A4GNT  | 0.0000000 |  0.3453673 | 0.18671575 | 0.00000000 | 0.25249272 | 0.34008416 | 0.11491994 | 0.05007534 | 0.08699281 | ⋯ | 0.0000000 | 0.21011771 | 0.15861238 | 0.02987935 | 0.03196338 | 0.03405405 | 0.0000000 | 0.08822700 | 0.04594706 | 0.08237894 |\n",
       "\n"
      ],
      "text/plain": [
       "  Gene   210514_NovaA_Sample_119 210514_NovaA_Sample_125\n",
       "1 A1BG   0.0000000                0.1008138             \n",
       "2 A1CF   0.3672601                0.2211464             \n",
       "3 A2M    7.4541321               13.0579971             \n",
       "4 A2ML1  1.3693672                1.6826913             \n",
       "5 A4GALT 0.0000000                0.3701377             \n",
       "6 A4GNT  0.0000000                0.3453673             \n",
       "  210514_NovaA_Sample_126 210514_NovaA_Sample_127 210514_NovaA_Sample_128\n",
       "1 0.07463937              0.11863530              0.00000000             \n",
       "2 0.11617910              0.07796177              0.10721909             \n",
       "3 5.11386311              4.72749612              3.47274709             \n",
       "4 1.66367976              1.04327963              0.93674521             \n",
       "5 0.03389242              0.17557934              0.08591165             \n",
       "6 0.18671575              0.00000000              0.25249272             \n",
       "  210514_NovaA_Sample_129 210514_NovaA_Sample_130 210514_NovaA_Sample_131\n",
       "1 0.12404990              0.05622084              0.00000000             \n",
       "2 0.10835870              0.11438411              0.15115279             \n",
       "3 3.82837657              3.78872179              2.16133545             \n",
       "4 1.49374691              0.89673778              1.21179526             \n",
       "5 0.09255274              0.00000000              0.09087823             \n",
       "6 0.34008416              0.11491994              0.05007534             \n",
       "  210514_NovaA_Sample_155 ⋯ 210526_NovaB_Sample_31 210526_NovaB_Sample_32\n",
       "1 0.11904644              ⋯ 0.1540329              0.05213075            \n",
       "2 0.36648967              ⋯ 0.2171982              0.28317918            \n",
       "3 1.36048288              ⋯ 0.9798571              6.11944873            \n",
       "4 1.47976041              ⋯ 1.3424449              0.86055498            \n",
       "5 0.11825650              ⋯ 0.0000000              0.00000000            \n",
       "6 0.08699281              ⋯ 0.0000000              0.21011771            \n",
       "  210526_NovaB_Sample_4 210526_NovaB_Sample_5 210526_NovaB_Sample_6\n",
       "1 0.25420261            0.11916153            0.00000000           \n",
       "2 0.17841843            0.20939012            0.12967700           \n",
       "3 4.68333805            4.70368936            3.09146594           \n",
       "4 1.28982498            0.86523597            0.70596671           \n",
       "5 0.05747761            0.02707345            0.08688749           \n",
       "6 0.15861238            0.02987935            0.03196338           \n",
       "  210526_NovaB_Sample_7 210526_NovaB_Sample_8 210526_NovaB_Sample_9\n",
       "1 0.00000000            0.0000000             0.27306098           \n",
       "2 0.15452019            0.1252244             0.28609477           \n",
       "3 3.38071121            6.5612474             4.57806476           \n",
       "4 1.00981515            2.0820322             0.84543268           \n",
       "5 0.00000000            0.1659785             0.02666352           \n",
       "6 0.03405405            0.0000000             0.08822700           \n",
       "  210423_NovaB_Sample_11 210423_NovaB_Sample_12\n",
       "1 0.00000000             0.00000000            \n",
       "2 0.17769321             0.14566191            \n",
       "3 5.02989551             5.32083877            \n",
       "4 1.18776717             1.56263761            \n",
       "5 0.00000000             0.03736067            \n",
       "6 0.04594706             0.08237894            "
      ]
     },
     "metadata": {},
     "output_type": "display_data"
    }
   ],
   "source": [
    "head(expr_table)"
   ]
  },
  {
   "cell_type": "code",
   "execution_count": 230,
   "id": "322f6626-964c-4721-965a-6a52761fc455",
   "metadata": {},
   "outputs": [
    {
     "data": {
      "image/png": "[encoded data removed]",
      "text/plain": [
       "plot without title"
      ]
     },
     "metadata": {
      "image/png": {
       "height": 420,
       "width": 420
      }
     },
     "output_type": "display_data"
    }
   ],
   "source": [
    "ggplot() + \n",
    "aes(log10(sample[sample != 0])) + \n",
    "geom_histogram(bins = 100, colour=\"black\", fill=\"skyblue\") + \n",
    "labs(title = \"Распределение логарифма ненулевых TPM в реальном образце\", x = \"log10(TPM)\", y = \"Частота\")"
   ]
  }
 ],
 "metadata": {
  "kernelspec": {
   "display_name": "R",
   "language": "R",
   "name": "ir"
  },
  "language_info": {
   "codemirror_mode": "r",
   "file_extension": ".r",
   "mimetype": "text/x-r-source",
   "name": "R",
   "pygments_lexer": "r",
   "version": "4.3.1"
  }
 },
 "nbformat": 4,
 "nbformat_minor": 5
}
